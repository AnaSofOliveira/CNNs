{
 "cells": [
  {
   "cell_type": "markdown",
   "metadata": {},
   "source": [
    "# Course:  Convolutional Neural Networks for Image Classification\n",
    "\n",
    "## Section-8\n",
    "### Visualize unique examples from augmented dataset\n",
    "\n",
    "**Description:**  \n",
    "*Plot images from augmented dataset  \n",
    "Compose video from plotted examples*  \n",
    "\n",
    "**File:** *visualize_examples.ipynb*"
   ]
  },
  {
   "cell_type": "markdown",
   "metadata": {},
   "source": [
    "### Algorithm:\n",
    "\n",
    "**--> Step 1:** Open Traffic Signs dataset  \n",
    "**--> Step 2:** Plot and save unique examples into images  \n",
    "\n",
    "\n",
    "**Result:**  \n",
    "- Set of images with examples from augmented dataset"
   ]
  },
  {
   "cell_type": "markdown",
   "metadata": {},
   "source": [
    "## Importing libraries"
   ]
  },
  {
   "cell_type": "code",
   "execution_count": 1,
   "metadata": {},
   "outputs": [],
   "source": [
    "# Importing needed libraries\n",
    "import matplotlib.pyplot as plt\n",
    "import numpy as np\n",
    "import h5py\n"
   ]
  },
  {
   "cell_type": "markdown",
   "metadata": {},
   "source": [
    "## Step 1: Opening Traffic Signs dataset"
   ]
  },
  {
   "cell_type": "code",
   "execution_count": 2,
   "metadata": {},
   "outputs": [
    {
     "name": "stdout",
     "output_type": "stream",
     "text": [
      "Traffic Signs dataset is successfully opened\n"
     ]
    }
   ],
   "source": [
    "# Opening augmented Traffic Signs dataset from HDF5 binary file\n",
    "# Initiating File object\n",
    "# Opening file in reading mode by 'r'\n",
    "# (!) On Windows, it might need to change\n",
    "# this: + '/' +\n",
    "# to this: + '\\' +\n",
    "# or to this: + '\\\\' +\n",
    "with h5py.File('ts' + '/' + 'dataset_ts_rgb_augmented.hdf5', 'r') as f:\n",
    "    # Extracting saved arrays for training by appropriate keys\n",
    "    # Saving them into new variables\n",
    "    x_train = f['x_train']  # HDF5 dataset\n",
    "    y_train = f['y_train']  # HDF5 dataset\n",
    "    # Converting them into Numpy arrays\n",
    "    x_train = np.array(x_train)  # Numpy arrays\n",
    "    y_train = np.array(y_train)  # Numpy arrays\n",
    "\n",
    "\n",
    "# Check point\n",
    "print('Traffic Signs dataset is successfully opened')\n"
   ]
  },
  {
   "cell_type": "code",
   "execution_count": 3,
   "metadata": {},
   "outputs": [
    {
     "name": "stdout",
     "output_type": "stream",
     "text": [
      "(90601, 48, 48, 3)\n",
      "(90601,)\n"
     ]
    }
   ],
   "source": [
    "# Check point\n",
    "# Showing shapes of loaded arrays\n",
    "print(x_train.shape)\n",
    "print(y_train.shape)\n"
   ]
  },
  {
   "cell_type": "markdown",
   "metadata": {},
   "source": [
    "## Step 2: Plotting and saving unique examples"
   ]
  },
  {
   "cell_type": "code",
   "execution_count": 4,
   "metadata": {},
   "outputs": [
    {
     "name": "stdout",
     "output_type": "stream",
     "text": [
      "100 unique examples for every class are successfully collected\n"
     ]
    }
   ],
   "source": [
    "# Defining dictionary to keep unique examples for every class\n",
    "# As a key there is a unique class\n",
    "# As a value there is a list with indexes of unique examples for this class\n",
    "dictionary_with_unique_examples = {}\n",
    "\n",
    "# Defining index to start iterating examples of images with\n",
    "i = 0\n",
    "\n",
    "# Defining variable to count total number of collected unique examples\n",
    "m = 0\n",
    "\n",
    "# Iterating classes\n",
    "while True:\n",
    "    # Checking if class isn't yet in dictionary\n",
    "    if y_train[i] not in dictionary_with_unique_examples:\n",
    "        # Adding new class to dictinory as a key\n",
    "        # Adding index of example to the list as a value\n",
    "        dictionary_with_unique_examples[y_train[i]] = [i]\n",
    "        \n",
    "        # Increasing counter of total number of examples\n",
    "        m += 1\n",
    "        \n",
    "    # If class is already in dictionary\n",
    "    # Checking if there is needed number of indexes of examples in the list\n",
    "    elif len(dictionary_with_unique_examples[y_train[i]]) < 100:\n",
    "        # Adding index of example to the list as a value\n",
    "        dictionary_with_unique_examples[y_train[i]] += [i]\n",
    "        \n",
    "        # Increasing counter of total number of examples\n",
    "        m += 1\n",
    "        \n",
    "    # Checking if there is already 100 * 43 = 4300 indexes of examples for all classes\n",
    "    if m == 4300:\n",
    "        # Breaking the loop\n",
    "        break\n",
    "    \n",
    "    # Increasing index\n",
    "    i += 1\n",
    "\n",
    "\n",
    "# Check point\n",
    "print('100 unique examples for every class are successfully collected')\n"
   ]
  },
  {
   "cell_type": "code",
   "execution_count": 5,
   "metadata": {
    "scrolled": false
   },
   "outputs": [
    {
     "name": "stdout",
     "output_type": "stream",
     "text": [
      "15 100\n",
      "2 100\n",
      "8 100\n",
      "40 100\n",
      "4 100\n",
      "27 100\n",
      "34 100\n",
      "1 100\n",
      "24 100\n",
      "38 100\n",
      "36 100\n",
      "11 100\n",
      "29 100\n",
      "21 100\n",
      "25 100\n",
      "35 100\n",
      "10 100\n",
      "33 100\n",
      "7 100\n",
      "30 100\n",
      "14 100\n",
      "22 100\n",
      "5 100\n",
      "39 100\n",
      "20 100\n",
      "28 100\n",
      "12 100\n",
      "3 100\n",
      "18 100\n",
      "37 100\n",
      "9 100\n",
      "41 100\n",
      "17 100\n",
      "13 100\n",
      "42 100\n",
      "26 100\n",
      "6 100\n",
      "32 100\n",
      "23 100\n",
      "31 100\n",
      "0 100\n",
      "16 100\n",
      "19 100\n"
     ]
    }
   ],
   "source": [
    "# Check point\n",
    "# Iterating dictionary keys and their values\n",
    "for key, value in dictionary_with_unique_examples.items():\n",
    "    # Showing key and length of the list with indexes\n",
    "    print(key, len(value))\n"
   ]
  },
  {
   "cell_type": "code",
   "execution_count": 6,
   "metadata": {},
   "outputs": [
    {
     "name": "stdout",
     "output_type": "stream",
     "text": [
      "[150, 168, 241, 254, 323, 334, 351, 468, 488, 501, 524, 577, 597, 598, 653, 689, 741, 748, 752, 758, 764, 782, 829, 968, 971, 995, 1010, 1049, 1086, 1172, 1213, 1221, 1316, 1354, 1355, 1421, 1519, 1531, 1718, 1746, 1804, 1823, 1874, 1907, 1918, 1931, 1935, 1962, 1997, 2025, 2126, 2145, 2163, 2201, 2242, 2255, 2386, 2403, 2541, 2559, 2603, 2629, 2662, 2763, 2831, 2863, 2887, 2934, 2974, 3009, 3023, 3025, 3090, 3105, 3140, 3277, 3313, 3342, 3363, 3380, 3416, 3447, 3474, 3504, 3584, 3621, 3625, 3655, 3669, 3694, 3807, 3816, 3826, 3858, 3879, 3964, 4041, 4096, 4138, 4161]\n"
     ]
    }
   ],
   "source": [
    "# Check point\n",
    "# Showing value for the specific key (first class)\n",
    "# This value is in form of list that holds indexes\n",
    "# of appropriate images for the first class\n",
    "print(dictionary_with_unique_examples[0])\n"
   ]
  },
  {
   "cell_type": "code",
   "execution_count": 8,
   "metadata": {
    "scrolled": true
   },
   "outputs": [
    {
     "name": "stdout",
     "output_type": "stream",
     "text": [
      "0000.png is created\n",
      "0001.png is created\n",
      "0002.png is created\n",
      "0003.png is created\n",
      "0004.png is created\n",
      "0005.png is created\n",
      "0006.png is created\n",
      "0007.png is created\n",
      "0008.png is created\n",
      "0009.png is created\n",
      "0010.png is created\n",
      "0011.png is created\n",
      "0012.png is created\n",
      "0013.png is created\n",
      "0014.png is created\n",
      "0015.png is created\n",
      "0016.png is created\n",
      "0017.png is created\n",
      "0018.png is created\n",
      "0019.png is created\n",
      "0020.png is created\n",
      "0021.png is created\n",
      "0022.png is created\n",
      "0023.png is created\n",
      "0024.png is created\n",
      "0025.png is created\n",
      "0026.png is created\n",
      "0027.png is created\n",
      "0028.png is created\n",
      "0029.png is created\n",
      "0030.png is created\n",
      "0031.png is created\n",
      "0032.png is created\n",
      "0033.png is created\n",
      "0034.png is created\n",
      "0035.png is created\n",
      "0036.png is created\n",
      "0037.png is created\n",
      "0038.png is created\n",
      "0039.png is created\n",
      "0040.png is created\n",
      "0041.png is created\n",
      "0042.png is created\n",
      "0043.png is created\n",
      "0044.png is created\n",
      "0045.png is created\n",
      "0046.png is created\n",
      "0047.png is created\n",
      "0048.png is created\n",
      "0049.png is created\n",
      "0050.png is created\n",
      "0051.png is created\n",
      "0052.png is created\n",
      "0053.png is created\n",
      "0054.png is created\n",
      "0055.png is created\n",
      "0056.png is created\n",
      "0057.png is created\n",
      "0058.png is created\n",
      "0059.png is created\n",
      "0060.png is created\n",
      "0061.png is created\n",
      "0062.png is created\n",
      "0063.png is created\n",
      "0064.png is created\n",
      "0065.png is created\n",
      "0066.png is created\n",
      "0067.png is created\n",
      "0068.png is created\n",
      "0069.png is created\n",
      "0070.png is created\n",
      "0071.png is created\n",
      "0072.png is created\n",
      "0073.png is created\n",
      "0074.png is created\n",
      "0075.png is created\n",
      "0076.png is created\n",
      "0077.png is created\n",
      "0078.png is created\n",
      "0079.png is created\n",
      "0080.png is created\n"
     ]
    }
   ],
   "source": [
    "# Setting default size of the plot\n",
    "plt.rcParams['figure.figsize'] = (16.0, 9.0)\n",
    "\n",
    "\n",
    "# Defining a figure object with number of needed subplots\n",
    "# ax is a (20, 43) Numpy array\n",
    "# To access specific subplot we call it by ax[0, 0]\n",
    "figure, ax = plt.subplots(nrows=20, ncols=43)\n",
    "\n",
    "\n",
    "# Plotting 860 examples along 20 rows and 43 columns\n",
    "# Creating figures, where every next plot will be updated by\n",
    "# deleting first row and updating last row with new images\n",
    "for i in range(81):   \n",
    "    # Filling every column in the first row with examples\n",
    "    for j in range(43):\n",
    "        # Extracting needed index from the dictionary\n",
    "        ii = dictionary_with_unique_examples[j][i]\n",
    "        # Placing examples into appropriate positions at the plot\n",
    "        ax[0, j].imshow(x_train[ii].astype('uint8'))\n",
    "        # Hiding axes\n",
    "        ax[0, j].axis('off')            \n",
    "        \n",
    "    # Filling rest of the 19th rows with next examples\n",
    "    for k in range(1, 20):\n",
    "        for j in range(43):\n",
    "            # Extracting needed index from the dictionary\n",
    "            ii = dictionary_with_unique_examples[j][i + k]\n",
    "            # Placing examples into appropriate positions at the plot\n",
    "            ax[k, j].imshow(x_train[ii].astype('uint8'))\n",
    "            # Hiding axes\n",
    "            ax[k, j].axis('off')\n",
    "    \n",
    "    # Saving current plot into a file\n",
    "    # (!) On Windows, it might need to change\n",
    "    # this: + '/' +\n",
    "    # to this: + '\\' +\n",
    "    # or to this: + '\\\\' +\n",
    "    figure.savefig('ts' '/' 'images' + '/' + '{0:04d}'.format(i) + '.png', dpi=300)\n",
    "\n",
    "    # Closing current plot to release memory\n",
    "    plt.close()\n",
    "    \n",
    "    # Check point\n",
    "    print('{0:04d}.png is created'.format(i))\n",
    "    "
   ]
  },
  {
   "cell_type": "markdown",
   "metadata": {},
   "source": [
    "### Some comments\n",
    "\n",
    "To get more details for usage of Python dictionaries:  \n",
    "**print(help(dict))**\n",
    "  \n",
    "More details and examples are here:  \n",
    " - https://docs.python.org/3/tutorial/datastructures.html?highlight=dictionary#dictionaries  \n"
   ]
  },
  {
   "cell_type": "code",
   "execution_count": null,
   "metadata": {
    "scrolled": true
   },
   "outputs": [],
   "source": [
    "print(help(dict))"
   ]
  }
 ],
 "metadata": {
  "kernelspec": {
   "display_name": "Python 3 (ipykernel)",
   "language": "python",
   "name": "python3"
  },
  "language_info": {
   "codemirror_mode": {
    "name": "ipython",
    "version": 3
   },
   "file_extension": ".py",
   "mimetype": "text/x-python",
   "name": "python",
   "nbconvert_exporter": "python",
   "pygments_lexer": "ipython3",
   "version": "3.7.16"
  }
 },
 "nbformat": 4,
 "nbformat_minor": 2
}
