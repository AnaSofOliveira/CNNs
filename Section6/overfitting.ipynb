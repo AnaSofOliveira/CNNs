{
 "cells": [
  {
   "cell_type": "markdown",
   "metadata": {},
   "source": [
    "# Course:  Convolutional Neural Networks for Image Classification\n",
    "\n",
    "## Section-6\n",
    "### Overfit designed CNNs models in Keras\n",
    "\n",
    "**Description:**  \n",
    "*Implement overfitting with small amount of images from prepared datasets  \n",
    "Plot resulted charts*\n",
    "\n",
    "**File:** *overfitting.ipynb*"
   ]
  },
  {
   "cell_type": "markdown",
   "metadata": {},
   "source": [
    "### Algorithm:\n",
    "\n",
    "**--> Step 1:** Open preprocessed dataset  \n",
    "**--> Step 2:** Convert classes vectors to binary matrices  \n",
    "**--> Step 3:** Load saved CNN model  \n",
    "**--> Step 4:** Set up learning rate & epochs  \n",
    "**--> Step 5: Overfit loaded CNN model**  \n",
    "**--> Step 6:** Show and plot accuracies  \n",
    "\n",
    "\n",
    "**Result:**  \n",
    "- Plot with training and validation accuracies  \n"
   ]
  },
  {
   "cell_type": "markdown",
   "metadata": {},
   "source": [
    "## Importing libraries"
   ]
  },
  {
   "cell_type": "code",
   "execution_count": 1,
   "metadata": {},
   "outputs": [],
   "source": [
    "# Importing needed libraries\n",
    "import matplotlib.pyplot as plt\n",
    "import numpy as np\n",
    "import h5py\n",
    "\n",
    "\n",
    "from keras.utils.np_utils import to_categorical\n",
    "from keras.models import load_model\n",
    "from keras.callbacks import LearningRateScheduler\n"
   ]
  },
  {
   "cell_type": "markdown",
   "metadata": {},
   "source": [
    "## Setting up full paths"
   ]
  },
  {
   "cell_type": "code",
   "execution_count": 2,
   "metadata": {},
   "outputs": [],
   "source": [
    "# Full or absolute path to 'Section4' with preprocessed datasets\n",
    "# (!) On Windows, the path should look like following:\n",
    "# r'C:\\Users\\your_name\\PycharmProjects\\CNNCourse\\Section4'\n",
    "# or:\n",
    "# 'C:\\\\Users\\\\your_name\\\\PycharmProjects\\\\CNNCourse\\\\Section4'\n",
    "full_path_to_Section4 = \\\n",
    "    'C:\\\\Users\\\\anaso\\\\OneDrive - Instituto Superior de Engenharia de Lisboa\\\\CNNCourse\\\\Section4'\n",
    "\n",
    "\n",
    "# Full or absolute path to 'Section5' with designed models\n",
    "# (!) On Windows, the path should look like following:\n",
    "# r'C:\\Users\\your_name\\PycharmProjects\\CNNCourse\\Section5'\n",
    "# or:\n",
    "# 'C:\\\\Users\\\\your_name\\\\PycharmProjects\\\\CNNCourse\\\\Section5'\n",
    "full_path_to_Section5 = \\\n",
    "    'C:\\\\Users\\\\anaso\\\\OneDrive - Instituto Superior de Engenharia de Lisboa\\\\CNNCourse\\\\Section5'\n"
   ]
  },
  {
   "cell_type": "markdown",
   "metadata": {},
   "source": [
    "### RGB custom dataset (255.0 ==> mean ==> std)\n",
    "\n",
    "## Step 1: Opening preprocessed dataset"
   ]
  },
  {
   "cell_type": "code",
   "execution_count": 3,
   "metadata": {},
   "outputs": [
    {
     "name": "stdout",
     "output_type": "stream",
     "text": [
      "['x_test', 'x_train', 'x_validation', 'y_test', 'y_train', 'y_validation']\n"
     ]
    }
   ],
   "source": [
    "# Opening saved custom dataset from HDF5 binary file\n",
    "# Initiating File object\n",
    "# Opening file in reading mode by 'r'\n",
    "# (!) On Windows, it might need to change\n",
    "# this: + '/' +\n",
    "# to this: + '\\' +\n",
    "# or to this: + '\\\\' +\n",
    "with h5py.File(full_path_to_Section4 + '/' + 'custom' + '/' +\n",
    "               'dataset_custom_rgb_255_mean_std.hdf5', 'r') as f:\n",
    "    \n",
    "    # Showing all keys in the HDF5 binary file\n",
    "    print(list(f.keys()))\n",
    "    \n",
    "    # Extracting saved arrays for training by appropriate keys\n",
    "    # Saving them into new variables\n",
    "    x_train = f['x_train']  # HDF5 dataset\n",
    "    y_train = f['y_train']  # HDF5 dataset\n",
    "    # Converting them into Numpy arrays\n",
    "    x_train = np.array(x_train)  # Numpy arrays\n",
    "    y_train = np.array(y_train)  # Numpy arrays\n",
    "    \n",
    "    \n",
    "    # Extracting saved arrays for validation by appropriate keys\n",
    "    # Saving them into new variables\n",
    "    x_validation = f['x_validation']  # HDF5 dataset\n",
    "    y_validation = f['y_validation']  # HDF5 dataset\n",
    "    # Converting them into Numpy arrays\n",
    "    x_validation = np.array(x_validation)  # Numpy arrays\n",
    "    y_validation = np.array(y_validation)  # Numpy arrays\n",
    "    \n",
    "    \n",
    "    # Extracting saved arrays for testing by appropriate keys\n",
    "    # Saving them into new variables\n",
    "    x_test = f['x_test']  # HDF5 dataset\n",
    "    y_test = f['y_test']  # HDF5 dataset\n",
    "    # Converting them into Numpy arrays\n",
    "    x_test = np.array(x_test)  # Numpy arrays\n",
    "    y_test = np.array(y_test)  # Numpy arrays\n"
   ]
  },
  {
   "cell_type": "code",
   "execution_count": 4,
   "metadata": {
    "scrolled": false
   },
   "outputs": [
    {
     "name": "stdout",
     "output_type": "stream",
     "text": [
      "<class 'numpy.ndarray'>\n",
      "<class 'numpy.ndarray'>\n",
      "<class 'numpy.ndarray'>\n",
      "<class 'numpy.ndarray'>\n",
      "<class 'numpy.ndarray'>\n",
      "<class 'numpy.ndarray'>\n",
      "\n",
      "(10, 64, 64, 3)\n",
      "(10,)\n",
      "(3, 64, 64, 3)\n",
      "(3,)\n",
      "(1, 64, 64, 3)\n",
      "(1,)\n"
     ]
    }
   ],
   "source": [
    "# Showing types of loaded arrays\n",
    "print(type(x_train))\n",
    "print(type(y_train))\n",
    "print(type(x_validation))\n",
    "print(type(y_validation))\n",
    "print(type(x_test))\n",
    "print(type(y_test))\n",
    "print()\n",
    "\n",
    "\n",
    "# Showing shapes of loaded arrays\n",
    "print(x_train.shape)\n",
    "print(y_train.shape)\n",
    "print(x_validation.shape)\n",
    "print(y_validation.shape)\n",
    "print(x_test.shape)\n",
    "print(y_test.shape)\n"
   ]
  },
  {
   "cell_type": "markdown",
   "metadata": {},
   "source": [
    "### RGB custom dataset (255.0 ==> mean ==> std)\n",
    "\n",
    "## Step 2: Converting classes vectors to classes matrices"
   ]
  },
  {
   "cell_type": "code",
   "execution_count": 5,
   "metadata": {},
   "outputs": [
    {
     "name": "stdout",
     "output_type": "stream",
     "text": [
      "Class index from vector: 3\n",
      "\n",
      "(10, 5)\n",
      "(3, 5)\n",
      "\n",
      "Class index from matrix: [0. 0. 0. 1. 0.]\n"
     ]
    }
   ],
   "source": [
    "# Showing class index from the vector\n",
    "print('Class index from vector:', y_train[5])\n",
    "print()\n",
    "\n",
    "# Preparing classes to be passed into the model\n",
    "# Transforming them from vectors to binary matrices\n",
    "# It is needed to set relationship between classes to be understood by the algorithm\n",
    "# Such format is commonly used in training and predicting\n",
    "y_train = to_categorical(y_train, num_classes = 5)\n",
    "y_validation = to_categorical(y_validation, num_classes = 5)\n",
    "\n",
    "\n",
    "# Showing shapes of converted vectors into matrices\n",
    "print(y_train.shape)\n",
    "print(y_validation.shape)\n",
    "print()\n",
    "\n",
    "\n",
    "# Showing class index from the matrix\n",
    "print('Class index from matrix:', y_train[5])\n"
   ]
  },
  {
   "cell_type": "markdown",
   "metadata": {},
   "source": [
    "### RGB custom dataset (255.0 ==> mean ==> std)\n",
    "\n",
    "## Step 3: Loading saved model"
   ]
  },
  {
   "cell_type": "code",
   "execution_count": 6,
   "metadata": {},
   "outputs": [
    {
     "name": "stdout",
     "output_type": "stream",
     "text": [
      "Model is successfully loaded\n"
     ]
    }
   ],
   "source": [
    "# Loading 1st model for RGB datasets\n",
    "# (!) On Windows, it might need to change\n",
    "# this: + '/' +\n",
    "# to this: + '\\' +\n",
    "# or to this: + '\\\\' +\n",
    "model = load_model(full_path_to_Section5 + '/' + 'custom' + '/' + 'model_1_custom_rgb.h5')\n",
    "\n",
    "# Check point\n",
    "print('Model is successfully loaded')\n"
   ]
  },
  {
   "cell_type": "code",
   "execution_count": 7,
   "metadata": {
    "scrolled": false
   },
   "outputs": [
    {
     "name": "stdout",
     "output_type": "stream",
     "text": [
      "Model: \"sequential\"\n",
      "_________________________________________________________________\n",
      "Layer (type)                 Output Shape              Param #   \n",
      "=================================================================\n",
      "conv2d (Conv2D)              (None, 64, 64, 64)        4864      \n",
      "_________________________________________________________________\n",
      "average_pooling2d (AveragePo (None, 32, 32, 64)        0         \n",
      "_________________________________________________________________\n",
      "dropout (Dropout)            (None, 32, 32, 64)        0         \n",
      "_________________________________________________________________\n",
      "conv2d_1 (Conv2D)            (None, 32, 32, 128)       204928    \n",
      "_________________________________________________________________\n",
      "average_pooling2d_1 (Average (None, 16, 16, 128)       0         \n",
      "_________________________________________________________________\n",
      "dropout_1 (Dropout)          (None, 16, 16, 128)       0         \n",
      "_________________________________________________________________\n",
      "conv2d_2 (Conv2D)            (None, 16, 16, 256)       819456    \n",
      "_________________________________________________________________\n",
      "average_pooling2d_2 (Average (None, 8, 8, 256)         0         \n",
      "_________________________________________________________________\n",
      "dropout_2 (Dropout)          (None, 8, 8, 256)         0         \n",
      "_________________________________________________________________\n",
      "conv2d_3 (Conv2D)            (None, 8, 8, 512)         3277312   \n",
      "_________________________________________________________________\n",
      "average_pooling2d_3 (Average (None, 4, 4, 512)         0         \n",
      "_________________________________________________________________\n",
      "dropout_3 (Dropout)          (None, 4, 4, 512)         0         \n",
      "_________________________________________________________________\n",
      "flatten (Flatten)            (None, 8192)              0         \n",
      "_________________________________________________________________\n",
      "dense (Dense)                (None, 2048)              16779264  \n",
      "_________________________________________________________________\n",
      "dropout_4 (Dropout)          (None, 2048)              0         \n",
      "_________________________________________________________________\n",
      "dense_1 (Dense)              (None, 5)                 10245     \n",
      "=================================================================\n",
      "Total params: 21,096,069\n",
      "Trainable params: 21,096,069\n",
      "Non-trainable params: 0\n",
      "_________________________________________________________________\n",
      "None\n",
      "\n",
      "Dropout rate:  0.2\n",
      "Strides of the 1st convolutional layer:  (1, 1)\n",
      "Strides of the average pooling layer:  (2, 2)\n",
      "\n",
      "Full configuration details of the 1st layer:\n",
      " {'class_name': 'InputLayer', 'config': {'batch_input_shape': (None, 64, 64, 3), 'dtype': 'float32', 'sparse': False, 'ragged': False, 'name': 'conv2d_input'}}\n"
     ]
    }
   ],
   "source": [
    "# Showing model's summary in table format\n",
    "print(model.summary())\n",
    "print()\n",
    "\n",
    "\n",
    "# Showing dropout rate\n",
    "print('Dropout rate: ', model.layers[2].rate)\n",
    "\n",
    "# Showing strides for the 1st layer (convolutional)\n",
    "print('Strides of the 1st convolutional layer: ', model.layers[0].strides)\n",
    "\n",
    "# Showing strides for the 2nd layer (average pooling)\n",
    "print('Strides of the average pooling layer: ', model.layers[1].strides)\n",
    "print()\n",
    "\n",
    "# Showing configurations for entire model\n",
    "# print(model.get_config())\n",
    "\n",
    "# Showing configurations for specific layers\n",
    "print('Full configuration details of the 1st layer:\\n', model.get_config()['layers'][0])\n"
   ]
  },
  {
   "cell_type": "markdown",
   "metadata": {},
   "source": [
    "### RGB custom dataset (255.0 ==> mean ==> std)\n",
    "\n",
    "## Step 4: Setting up learning rate & epochs"
   ]
  },
  {
   "cell_type": "code",
   "execution_count": 8,
   "metadata": {},
   "outputs": [
    {
     "name": "stdout",
     "output_type": "stream",
     "text": [
      "Number of epochs and schedule for learning rate are set successfully\n"
     ]
    }
   ],
   "source": [
    "# Defining number of epochs\n",
    "epochs = 50\n",
    "\n",
    "# Defining schedule to update learning rate\n",
    "learning_rate = LearningRateScheduler(lambda x: 1e-3 * 0.95 ** (x + epochs), verbose=1)\n",
    "\n",
    "# Check point\n",
    "print('Number of epochs and schedule for learning rate are set successfully')\n"
   ]
  },
  {
   "cell_type": "markdown",
   "metadata": {},
   "source": [
    "### RGB custom dataset (255.0 ==> mean ==> std)\n",
    "\n",
    "## Step 5: Overfitting loaded CNN model"
   ]
  },
  {
   "cell_type": "code",
   "execution_count": 9,
   "metadata": {
    "scrolled": true
   },
   "outputs": [
    {
     "name": "stdout",
     "output_type": "stream",
     "text": [
      "\n",
      "Epoch 00001: LearningRateScheduler reducing learning rate to 7.694497527671315e-05.\n",
      "Epoch 1/50\n",
      "10/10 [==============================] - 2s 164ms/step - loss: 1.2778 - accuracy: 0.6000 - val_loss: 0.4442 - val_accuracy: 1.0000\n",
      "\n",
      "Epoch 00002: LearningRateScheduler reducing learning rate to 7.30977265128775e-05.\n",
      "Epoch 2/50\n",
      "10/10 [==============================] - 1s 125ms/step - loss: 0.9149 - accuracy: 0.7000 - val_loss: 0.3245 - val_accuracy: 1.0000\n",
      "\n",
      "Epoch 00003: LearningRateScheduler reducing learning rate to 6.94428401872336e-05.\n",
      "Epoch 3/50\n",
      "10/10 [==============================] - 1s 116ms/step - loss: 0.6661 - accuracy: 0.7000 - val_loss: 0.7184 - val_accuracy: 1.0000\n",
      "\n",
      "Epoch 00004: LearningRateScheduler reducing learning rate to 6.597069817787194e-05.\n",
      "Epoch 4/50\n",
      "10/10 [==============================] - 1s 115ms/step - loss: 0.6740 - accuracy: 0.7000 - val_loss: 0.4787 - val_accuracy: 1.0000\n",
      "\n",
      "Epoch 00005: LearningRateScheduler reducing learning rate to 6.267216326897833e-05.\n",
      "Epoch 5/50\n",
      "10/10 [==============================] - 1s 111ms/step - loss: 0.4820 - accuracy: 0.7000 - val_loss: 0.4246 - val_accuracy: 1.0000\n",
      "\n",
      "Epoch 00006: LearningRateScheduler reducing learning rate to 5.953855510552941e-05.\n",
      "Epoch 6/50\n",
      "10/10 [==============================] - 1s 127ms/step - loss: 0.3244 - accuracy: 0.9000 - val_loss: 0.5774 - val_accuracy: 0.6667\n",
      "\n",
      "Epoch 00007: LearningRateScheduler reducing learning rate to 5.656162735025293e-05.\n",
      "Epoch 7/50\n",
      "10/10 [==============================] - 1s 108ms/step - loss: 0.3581 - accuracy: 0.9000 - val_loss: 0.6026 - val_accuracy: 0.6667\n",
      "\n",
      "Epoch 00008: LearningRateScheduler reducing learning rate to 5.373354598274029e-05.\n",
      "Epoch 8/50\n",
      "10/10 [==============================] - 1s 115ms/step - loss: 0.0562 - accuracy: 1.0000 - val_loss: 0.9958 - val_accuracy: 0.6667\n",
      "\n",
      "Epoch 00009: LearningRateScheduler reducing learning rate to 5.1046868683603266e-05.\n",
      "Epoch 9/50\n",
      "10/10 [==============================] - 1s 107ms/step - loss: 0.0353 - accuracy: 1.0000 - val_loss: 1.1186 - val_accuracy: 0.6667\n",
      "\n",
      "Epoch 00010: LearningRateScheduler reducing learning rate to 4.8494525249423105e-05.\n",
      "Epoch 10/50\n",
      "10/10 [==============================] - 1s 118ms/step - loss: 0.0109 - accuracy: 1.0000 - val_loss: 1.2812 - val_accuracy: 0.6667\n",
      "\n",
      "Epoch 00011: LearningRateScheduler reducing learning rate to 4.6069798986951947e-05.\n",
      "Epoch 11/50\n",
      "10/10 [==============================] - 1s 113ms/step - loss: 0.0076 - accuracy: 1.0000 - val_loss: 1.3689 - val_accuracy: 0.6667\n",
      "\n",
      "Epoch 00012: LearningRateScheduler reducing learning rate to 4.3766309037604346e-05.\n",
      "Epoch 12/50\n",
      "10/10 [==============================] - 1s 108ms/step - loss: 0.2734 - accuracy: 0.9000 - val_loss: 1.2757 - val_accuracy: 0.6667\n",
      "\n",
      "Epoch 00013: LearningRateScheduler reducing learning rate to 4.157799358572413e-05.\n",
      "Epoch 13/50\n",
      "10/10 [==============================] - 1s 115ms/step - loss: 0.0220 - accuracy: 1.0000 - val_loss: 1.6348 - val_accuracy: 0.6667\n",
      "\n",
      "Epoch 00014: LearningRateScheduler reducing learning rate to 3.949909390643792e-05.\n",
      "Epoch 14/50\n",
      "10/10 [==============================] - 1s 110ms/step - loss: 0.0091 - accuracy: 1.0000 - val_loss: 1.6942 - val_accuracy: 0.6667\n",
      "\n",
      "Epoch 00015: LearningRateScheduler reducing learning rate to 3.752413921111602e-05.\n",
      "Epoch 15/50\n",
      "10/10 [==============================] - 1s 114ms/step - loss: 0.0051 - accuracy: 1.0000 - val_loss: 1.6827 - val_accuracy: 0.6667\n",
      "\n",
      "Epoch 00016: LearningRateScheduler reducing learning rate to 3.564793225056022e-05.\n",
      "Epoch 16/50\n",
      "10/10 [==============================] - 1s 109ms/step - loss: 0.0068 - accuracy: 1.0000 - val_loss: 1.6193 - val_accuracy: 0.6667\n",
      "\n",
      "Epoch 00017: LearningRateScheduler reducing learning rate to 3.386553563803221e-05.\n",
      "Epoch 17/50\n",
      "10/10 [==============================] - 1s 120ms/step - loss: 0.0100 - accuracy: 1.0000 - val_loss: 1.4949 - val_accuracy: 0.6667\n",
      "\n",
      "Epoch 00018: LearningRateScheduler reducing learning rate to 3.217225885613059e-05.\n",
      "Epoch 18/50\n",
      "10/10 [==============================] - 1s 112ms/step - loss: 0.0017 - accuracy: 1.0000 - val_loss: 1.4232 - val_accuracy: 0.6667\n",
      "\n",
      "Epoch 00019: LearningRateScheduler reducing learning rate to 3.0563645913324066e-05.\n",
      "Epoch 19/50\n",
      "10/10 [==============================] - 1s 110ms/step - loss: 0.0023 - accuracy: 1.0000 - val_loss: 1.4641 - val_accuracy: 0.6667\n",
      "\n",
      "Epoch 00020: LearningRateScheduler reducing learning rate to 2.903546361765786e-05.\n",
      "Epoch 20/50\n",
      "10/10 [==============================] - 1s 107ms/step - loss: 0.0024 - accuracy: 1.0000 - val_loss: 1.5155 - val_accuracy: 0.6667\n",
      "\n",
      "Epoch 00021: LearningRateScheduler reducing learning rate to 2.7583690436774966e-05.\n",
      "Epoch 21/50\n",
      "10/10 [==============================] - 1s 106ms/step - loss: 0.0023 - accuracy: 1.0000 - val_loss: 1.5913 - val_accuracy: 0.6667\n",
      "\n",
      "Epoch 00022: LearningRateScheduler reducing learning rate to 2.6204505914936218e-05.\n",
      "Epoch 22/50\n",
      "10/10 [==============================] - 1s 110ms/step - loss: 0.0043 - accuracy: 1.0000 - val_loss: 1.6649 - val_accuracy: 0.6667\n",
      "\n",
      "Epoch 00023: LearningRateScheduler reducing learning rate to 2.4894280619189404e-05.\n",
      "Epoch 23/50\n",
      "10/10 [==============================] - 1s 104ms/step - loss: 0.0014 - accuracy: 1.0000 - val_loss: 1.6982 - val_accuracy: 0.6667\n",
      "\n",
      "Epoch 00024: LearningRateScheduler reducing learning rate to 2.3649566588229933e-05.\n",
      "Epoch 24/50\n",
      "10/10 [==============================] - 1s 117ms/step - loss: 8.8734e-04 - accuracy: 1.0000 - val_loss: 1.7311 - val_accuracy: 0.6667\n",
      "\n",
      "Epoch 00025: LearningRateScheduler reducing learning rate to 2.2467088258818436e-05.\n",
      "Epoch 25/50\n",
      "10/10 [==============================] - 1s 108ms/step - loss: 0.0011 - accuracy: 1.0000 - val_loss: 1.7701 - val_accuracy: 0.6667\n",
      "\n",
      "Epoch 00026: LearningRateScheduler reducing learning rate to 2.134373384587751e-05.\n",
      "Epoch 26/50\n",
      "10/10 [==============================] - 1s 105ms/step - loss: 9.6717e-04 - accuracy: 1.0000 - val_loss: 1.8014 - val_accuracy: 0.6667\n",
      "\n",
      "Epoch 00027: LearningRateScheduler reducing learning rate to 2.0276547153583635e-05.\n",
      "Epoch 27/50\n",
      "10/10 [==============================] - 1s 111ms/step - loss: 0.0010 - accuracy: 1.0000 - val_loss: 1.8300 - val_accuracy: 0.6667\n",
      "\n",
      "Epoch 00028: LearningRateScheduler reducing learning rate to 1.9262719795904453e-05.\n",
      "Epoch 28/50\n",
      "10/10 [==============================] - 1s 106ms/step - loss: 0.0010 - accuracy: 1.0000 - val_loss: 1.8514 - val_accuracy: 0.6667\n",
      "\n",
      "Epoch 00029: LearningRateScheduler reducing learning rate to 1.8299583806109228e-05.\n",
      "Epoch 29/50\n",
      "10/10 [==============================] - 1s 107ms/step - loss: 5.7584e-04 - accuracy: 1.0000 - val_loss: 1.8695 - val_accuracy: 0.6667\n",
      "\n",
      "Epoch 00030: LearningRateScheduler reducing learning rate to 1.7384604615803768e-05.\n",
      "Epoch 30/50\n",
      "10/10 [==============================] - 1s 116ms/step - loss: 5.7435e-04 - accuracy: 1.0000 - val_loss: 1.8835 - val_accuracy: 0.6667\n",
      "\n",
      "Epoch 00031: LearningRateScheduler reducing learning rate to 1.651537438501358e-05.\n",
      "Epoch 31/50\n",
      "10/10 [==============================] - 1s 106ms/step - loss: 7.7125e-04 - accuracy: 1.0000 - val_loss: 1.8965 - val_accuracy: 0.6667\n",
      "\n",
      "Epoch 00032: LearningRateScheduler reducing learning rate to 1.56896056657629e-05.\n",
      "Epoch 32/50\n",
      "10/10 [==============================] - 1s 110ms/step - loss: 3.4961e-04 - accuracy: 1.0000 - val_loss: 1.9062 - val_accuracy: 0.6667\n",
      "\n",
      "Epoch 00033: LearningRateScheduler reducing learning rate to 1.4905125382474753e-05.\n",
      "Epoch 33/50\n",
      "10/10 [==============================] - 1s 107ms/step - loss: 6.3523e-04 - accuracy: 1.0000 - val_loss: 1.9183 - val_accuracy: 0.6667\n",
      "\n",
      "Epoch 00034: LearningRateScheduler reducing learning rate to 1.4159869113351015e-05.\n",
      "Epoch 34/50\n",
      "10/10 [==============================] - 1s 114ms/step - loss: 4.3894e-04 - accuracy: 1.0000 - val_loss: 1.9290 - val_accuracy: 0.6667\n",
      "\n",
      "Epoch 00035: LearningRateScheduler reducing learning rate to 1.3451875657683464e-05.\n",
      "Epoch 35/50\n",
      "10/10 [==============================] - 1s 106ms/step - loss: 4.1350e-04 - accuracy: 1.0000 - val_loss: 1.9348 - val_accuracy: 0.6667\n",
      "\n",
      "Epoch 00036: LearningRateScheduler reducing learning rate to 1.2779281874799288e-05.\n",
      "Epoch 36/50\n"
     ]
    },
    {
     "name": "stdout",
     "output_type": "stream",
     "text": [
      "10/10 [==============================] - 1s 103ms/step - loss: 7.3614e-04 - accuracy: 1.0000 - val_loss: 1.9433 - val_accuracy: 0.6667\n",
      "\n",
      "Epoch 00037: LearningRateScheduler reducing learning rate to 1.2140317781059324e-05.\n",
      "Epoch 37/50\n",
      "10/10 [==============================] - 1s 101ms/step - loss: 7.0550e-04 - accuracy: 1.0000 - val_loss: 1.9487 - val_accuracy: 0.6667\n",
      "\n",
      "Epoch 00038: LearningRateScheduler reducing learning rate to 1.1533301892006358e-05.\n",
      "Epoch 38/50\n",
      "10/10 [==============================] - 1s 105ms/step - loss: 4.7350e-04 - accuracy: 1.0000 - val_loss: 1.9522 - val_accuracy: 0.6667\n",
      "\n",
      "Epoch 00039: LearningRateScheduler reducing learning rate to 1.095663679740604e-05.\n",
      "Epoch 39/50\n",
      "10/10 [==============================] - 1s 99ms/step - loss: 4.8292e-04 - accuracy: 1.0000 - val_loss: 1.9561 - val_accuracy: 0.6667\n",
      "\n",
      "Epoch 00040: LearningRateScheduler reducing learning rate to 1.0408804957535738e-05.\n",
      "Epoch 40/50\n",
      "10/10 [==============================] - 1s 106ms/step - loss: 4.7859e-04 - accuracy: 1.0000 - val_loss: 1.9643 - val_accuracy: 0.6667\n",
      "\n",
      "Epoch 00041: LearningRateScheduler reducing learning rate to 9.88836470965895e-06.\n",
      "Epoch 41/50\n",
      "10/10 [==============================] - 1s 107ms/step - loss: 2.3077e-04 - accuracy: 1.0000 - val_loss: 1.9714 - val_accuracy: 0.6667\n",
      "\n",
      "Epoch 00042: LearningRateScheduler reducing learning rate to 9.393946474176e-06.\n",
      "Epoch 42/50\n",
      "10/10 [==============================] - 1s 124ms/step - loss: 5.9629e-04 - accuracy: 1.0000 - val_loss: 1.9759 - val_accuracy: 0.6667\n",
      "\n",
      "Epoch 00043: LearningRateScheduler reducing learning rate to 8.924249150467201e-06.\n",
      "Epoch 43/50\n",
      "10/10 [==============================] - 1s 122ms/step - loss: 3.9089e-04 - accuracy: 1.0000 - val_loss: 1.9809 - val_accuracy: 0.6667\n",
      "\n",
      "Epoch 00044: LearningRateScheduler reducing learning rate to 8.478036692943842e-06.\n",
      "Epoch 44/50\n",
      "10/10 [==============================] - 1s 120ms/step - loss: 3.9650e-04 - accuracy: 1.0000 - val_loss: 1.9903 - val_accuracy: 0.6667\n",
      "\n",
      "Epoch 00045: LearningRateScheduler reducing learning rate to 8.054134858296648e-06.\n",
      "Epoch 45/50\n",
      "10/10 [==============================] - 1s 112ms/step - loss: 3.4729e-04 - accuracy: 1.0000 - val_loss: 2.0034 - val_accuracy: 0.6667\n",
      "\n",
      "Epoch 00046: LearningRateScheduler reducing learning rate to 7.651428115381816e-06.\n",
      "Epoch 46/50\n",
      "10/10 [==============================] - 1s 104ms/step - loss: 3.3810e-04 - accuracy: 1.0000 - val_loss: 2.0109 - val_accuracy: 0.6667\n",
      "\n",
      "Epoch 00047: LearningRateScheduler reducing learning rate to 7.2688567096127245e-06.\n",
      "Epoch 47/50\n",
      "10/10 [==============================] - 1s 110ms/step - loss: 4.1889e-04 - accuracy: 1.0000 - val_loss: 2.0208 - val_accuracy: 0.6667\n",
      "\n",
      "Epoch 00048: LearningRateScheduler reducing learning rate to 6.905413874132088e-06.\n",
      "Epoch 48/50\n",
      "10/10 [==============================] - 1s 126ms/step - loss: 3.5971e-04 - accuracy: 1.0000 - val_loss: 2.0241 - val_accuracy: 0.6667\n",
      "\n",
      "Epoch 00049: LearningRateScheduler reducing learning rate to 6.560143180425483e-06.\n",
      "Epoch 49/50\n",
      "10/10 [==============================] - 1s 115ms/step - loss: 3.3520e-04 - accuracy: 1.0000 - val_loss: 2.0285 - val_accuracy: 0.6667\n",
      "\n",
      "Epoch 00050: LearningRateScheduler reducing learning rate to 6.2321360214042085e-06.\n",
      "Epoch 50/50\n",
      "10/10 [==============================] - 1s 121ms/step - loss: 3.2421e-04 - accuracy: 1.0000 - val_loss: 2.0322 - val_accuracy: 0.6667\n"
     ]
    }
   ],
   "source": [
    "# If you're using Nvidia GPU and 'cnngpu' environment, there might be an issue like:\n",
    "'''Failed to get convolution algorithm. This is probably because cuDNN failed to initialize'''\n",
    "# In this case, close all Jupyter Notebooks, close Terminal Window or Anaconda Prompt\n",
    "# Open again just this one Jupyter Notebook and run it\n",
    "\n",
    "\n",
    "# Training model\n",
    "h = model.fit(x_train[:100], y_train[:100],\n",
    "                        batch_size=1,\n",
    "                        epochs=epochs,\n",
    "                        validation_data=(x_validation[:500], y_validation[:500]),\n",
    "                        callbacks=[learning_rate],\n",
    "                        verbose=1)\n"
   ]
  },
  {
   "cell_type": "markdown",
   "metadata": {},
   "source": [
    "### RGB custom dataset (255.0 ==> mean ==> std)\n",
    "\n",
    "## Step 6: Showing and plotting accuracies"
   ]
  },
  {
   "cell_type": "code",
   "execution_count": 10,
   "metadata": {},
   "outputs": [
    {
     "name": "stdout",
     "output_type": "stream",
     "text": [
      "Training accuracy=1.00000, Validation accuracy=1.00000\n"
     ]
    }
   ],
   "source": [
    "# Accuracies of the model\n",
    "print('Training accuracy={0:.5f}, Validation accuracy={1:.5f}'.\n",
    "                                                             format(max(h.history['accuracy']),\n",
    "                                                                    max(h.history['val_accuracy'])))\n"
   ]
  },
  {
   "cell_type": "code",
   "execution_count": 11,
   "metadata": {
    "scrolled": false
   },
   "outputs": [
    {
     "data": {
      "image/png": "[encoded data removed]",
      "text/plain": [
       "<Figure size 1200x600 with 1 Axes>"
      ]
     },
     "metadata": {},
     "output_type": "display_data"
    }
   ],
   "source": [
    "# Magic function that renders the figure in a jupyter notebook\n",
    "# instead of displaying a figure object\n",
    "%matplotlib inline\n",
    "\n",
    "\n",
    "# Setting default size of the plot\n",
    "plt.rcParams['figure.figsize'] = (12.0, 6.0)\n",
    "\n",
    "\n",
    "# Plotting accuracies for every model\n",
    "plt.plot(h.history['accuracy'], '-o')\n",
    "plt.plot(h.history['val_accuracy'], '-o')\n",
    "\n",
    "\n",
    "# Showing legend\n",
    "plt.legend(['training accuracy', 'validation accuracy'], loc='center right', fontsize='xx-large')\n",
    "\n",
    "\n",
    "# Giving name to axes\n",
    "plt.xlabel('Epoch', fontsize=16)\n",
    "plt.ylabel('Accuracy', fontsize=16)\n",
    "\n",
    "\n",
    "# Giving name to the plot\n",
    "plt.title('Overfitting model for Custom Dataset', fontsize=16)\n",
    "\n",
    "\n",
    "# Saving plot\n",
    "plt.savefig('overfitted_model_of_custom_dataset.png', dpi=500)\n",
    "\n",
    "\n",
    "# Showing the plot\n",
    "plt.show()\n"
   ]
  },
  {
   "cell_type": "markdown",
   "metadata": {},
   "source": [
    "### RGB CIFAR-10 dataset (255.0 ==> mean ==> std)\n",
    "\n",
    "## Step 1: Opening preprocessed dataset"
   ]
  },
  {
   "cell_type": "code",
   "execution_count": 12,
   "metadata": {},
   "outputs": [
    {
     "name": "stdout",
     "output_type": "stream",
     "text": [
      "['x_test', 'x_train', 'x_validation', 'y_test', 'y_train', 'y_validation']\n"
     ]
    }
   ],
   "source": [
    "# Opening saved CIFAR-10 dataset from HDF5 binary file\n",
    "# Initiating File object\n",
    "# Opening file in reading mode by 'r'\n",
    "# (!) On Windows, it might need to change\n",
    "# this: + '/' +\n",
    "# to this: + '\\' +\n",
    "# or to this: + '\\\\' +\n",
    "with h5py.File(full_path_to_Section4 + '/' + 'cifar10' + '/' +\n",
    "               'dataset_cifar10_rgb_255_mean_std.hdf5', 'r') as f:\n",
    "    \n",
    "    # Showing all keys in the HDF5 binary file\n",
    "    print(list(f.keys()))\n",
    "    \n",
    "    # Extracting saved arrays for training by appropriate keys\n",
    "    # Saving them into new variables    \n",
    "    x_train = f['x_train']  # HDF5 dataset\n",
    "    y_train = f['y_train']  # HDF5 dataset\n",
    "    # Converting them into Numpy arrays\n",
    "    x_train = np.array(x_train)  # Numpy arrays\n",
    "    y_train = np.array(y_train)  # Numpy arrays\n",
    "    \n",
    "    \n",
    "    # Extracting saved arrays for validation by appropriate keys\n",
    "    # Saving them into new variables \n",
    "    x_validation = f['x_validation']  # HDF5 dataset\n",
    "    y_validation = f['y_validation']  # HDF5 dataset\n",
    "    # Converting them into Numpy arrays\n",
    "    x_validation = np.array(x_validation)  # Numpy arrays\n",
    "    y_validation = np.array(y_validation)  # Numpy arrays\n",
    "    \n",
    "    \n",
    "    # Extracting saved arrays for testing by appropriate keys\n",
    "    # Saving them into new variables \n",
    "    x_test = f['x_test']  # HDF5 dataset\n",
    "    y_test = f['y_test']  # HDF5 dataset\n",
    "    # Converting them into Numpy arrays\n",
    "    x_test = np.array(x_test)  # Numpy arrays\n",
    "    y_test = np.array(y_test)  # Numpy arrays\n"
   ]
  },
  {
   "cell_type": "code",
   "execution_count": 13,
   "metadata": {},
   "outputs": [
    {
     "name": "stdout",
     "output_type": "stream",
     "text": [
      "<class 'numpy.ndarray'>\n",
      "<class 'numpy.ndarray'>\n",
      "<class 'numpy.ndarray'>\n",
      "<class 'numpy.ndarray'>\n",
      "<class 'numpy.ndarray'>\n",
      "<class 'numpy.ndarray'>\n",
      "\n",
      "(42500, 32, 32, 3)\n",
      "(42500,)\n",
      "(7500, 32, 32, 3)\n",
      "(7500,)\n",
      "(10000, 32, 32, 3)\n",
      "(10000,)\n"
     ]
    }
   ],
   "source": [
    "# Showing types of loaded arrays\n",
    "print(type(x_train))\n",
    "print(type(y_train))\n",
    "print(type(x_validation))\n",
    "print(type(y_validation))\n",
    "print(type(x_test))\n",
    "print(type(y_test))\n",
    "print()\n",
    "\n",
    "\n",
    "# Showing shapes of loaded arrays\n",
    "print(x_train.shape)\n",
    "print(y_train.shape)\n",
    "print(x_validation.shape)\n",
    "print(y_validation.shape)\n",
    "print(x_test.shape)\n",
    "print(y_test.shape)\n"
   ]
  },
  {
   "cell_type": "markdown",
   "metadata": {},
   "source": [
    "### RGB CIFAR-10 dataset (255.0 ==> mean ==> std)\n",
    "\n",
    "## Step 2: Converting classes vectors to classes matrices"
   ]
  },
  {
   "cell_type": "code",
   "execution_count": 14,
   "metadata": {},
   "outputs": [
    {
     "name": "stdout",
     "output_type": "stream",
     "text": [
      "Class index from vector: 3\n",
      "\n",
      "(42500, 10)\n",
      "(7500, 10)\n",
      "\n",
      "Class index from matrix: [0. 0. 0. 1. 0. 0. 0. 0. 0. 0.]\n"
     ]
    }
   ],
   "source": [
    "# Showing class index from the vector\n",
    "print('Class index from vector:', y_train[5])\n",
    "print()\n",
    "\n",
    "# Preparing classes to be passed into the model\n",
    "# Transforming them from vectors to binary matrices\n",
    "# It is needed to set relationship between classes to be understood by the algorithm\n",
    "# Such format is commonly used in training and predicting\n",
    "y_train = to_categorical(y_train, num_classes = 10)\n",
    "y_validation = to_categorical(y_validation, num_classes = 10)\n",
    "\n",
    "\n",
    "# Showing shapes of converted vectors into matrices\n",
    "print(y_train.shape)\n",
    "print(y_validation.shape)\n",
    "print()\n",
    "\n",
    "\n",
    "# Showing class index from the matrix\n",
    "print('Class index from matrix:', y_train[5])\n"
   ]
  },
  {
   "cell_type": "markdown",
   "metadata": {},
   "source": [
    "### RGB CIFAR-10 dataset (255.0 ==> mean ==> std)\n",
    "\n",
    "## Step 3: Loading saved model"
   ]
  },
  {
   "cell_type": "code",
   "execution_count": 15,
   "metadata": {
    "scrolled": true
   },
   "outputs": [
    {
     "name": "stdout",
     "output_type": "stream",
     "text": [
      "Model is successfully loaded\n"
     ]
    }
   ],
   "source": [
    "# Loading 1st model for RGB datasets\n",
    "# (!) On Windows, it might need to change\n",
    "# this: + '/' +\n",
    "# to this: + '\\' +\n",
    "# or to this: + '\\\\' +\n",
    "model = load_model(full_path_to_Section5 + '/' + 'cifar10' + '/' + 'model_1_cifar10_rgb.h5')\n",
    "\n",
    "# Check point\n",
    "print('Model is successfully loaded')\n"
   ]
  },
  {
   "cell_type": "code",
   "execution_count": 16,
   "metadata": {
    "scrolled": false
   },
   "outputs": [
    {
     "name": "stdout",
     "output_type": "stream",
     "text": [
      "Model: \"sequential_4\"\n",
      "_________________________________________________________________\n",
      "Layer (type)                 Output Shape              Param #   \n",
      "=================================================================\n",
      "conv2d_10 (Conv2D)           (None, 32, 32, 128)       9728      \n",
      "_________________________________________________________________\n",
      "max_pooling2d (MaxPooling2D) (None, 16, 16, 128)       0         \n",
      "_________________________________________________________________\n",
      "dropout_14 (Dropout)         (None, 16, 16, 128)       0         \n",
      "_________________________________________________________________\n",
      "conv2d_11 (Conv2D)           (None, 16, 16, 256)       819456    \n",
      "_________________________________________________________________\n",
      "max_pooling2d_1 (MaxPooling2 (None, 8, 8, 256)         0         \n",
      "_________________________________________________________________\n",
      "dropout_15 (Dropout)         (None, 8, 8, 256)         0         \n",
      "_________________________________________________________________\n",
      "conv2d_12 (Conv2D)           (None, 8, 8, 512)         3277312   \n",
      "_________________________________________________________________\n",
      "max_pooling2d_2 (MaxPooling2 (None, 4, 4, 512)         0         \n",
      "_________________________________________________________________\n",
      "dropout_16 (Dropout)         (None, 4, 4, 512)         0         \n",
      "_________________________________________________________________\n",
      "flatten_4 (Flatten)          (None, 8192)              0         \n",
      "_________________________________________________________________\n",
      "dense_8 (Dense)              (None, 256)               2097408   \n",
      "_________________________________________________________________\n",
      "dropout_17 (Dropout)         (None, 256)               0         \n",
      "_________________________________________________________________\n",
      "dense_9 (Dense)              (None, 10)                2570      \n",
      "=================================================================\n",
      "Total params: 6,206,474\n",
      "Trainable params: 6,206,474\n",
      "Non-trainable params: 0\n",
      "_________________________________________________________________\n",
      "None\n",
      "\n",
      "Dropout rate:  0.4\n",
      "Strides of the 1st convolutional layer:  (1, 1)\n",
      "Strides of the max pooling layer:  (2, 2)\n",
      "\n",
      "Full configuration details of the 1st layer:\n",
      " {'class_name': 'InputLayer', 'config': {'batch_input_shape': (None, 32, 32, 3), 'dtype': 'float32', 'sparse': False, 'ragged': False, 'name': 'conv2d_10_input'}}\n"
     ]
    }
   ],
   "source": [
    "# Showing model's summary in table format\n",
    "print(model.summary())\n",
    "print()\n",
    "\n",
    "\n",
    "# Showing dropout rate\n",
    "print('Dropout rate: ', model.layers[2].rate)\n",
    "\n",
    "# Showing strides for the 1st layer (convolutional)\n",
    "print('Strides of the 1st convolutional layer: ', model.layers[0].strides)\n",
    "\n",
    "# Showing strides for the 2nd layer (max pooling)\n",
    "print('Strides of the max pooling layer: ', model.layers[1].strides)\n",
    "print()\n",
    "\n",
    "# Showing configurations for entire model\n",
    "# print(model.get_config())\n",
    "\n",
    "# Showing configurations for specific layers\n",
    "print('Full configuration details of the 1st layer:\\n', model.get_config()['layers'][0])\n"
   ]
  },
  {
   "cell_type": "markdown",
   "metadata": {},
   "source": [
    "### RGB CIFAR-10 dataset (255.0 ==> mean ==> std)\n",
    "\n",
    "## Step 4: Setting up learning rate & epochs"
   ]
  },
  {
   "cell_type": "code",
   "execution_count": 17,
   "metadata": {},
   "outputs": [
    {
     "name": "stdout",
     "output_type": "stream",
     "text": [
      "Number of epochs and schedule for learning rate are set successfully\n"
     ]
    }
   ],
   "source": [
    "# Defining number of epochs\n",
    "epochs = 50\n",
    "\n",
    "# Defining schedule to update learning rate\n",
    "learning_rate = LearningRateScheduler(lambda x: 1e-3 * 0.95 ** (x + epochs), verbose=1)\n",
    "\n",
    "# Check point\n",
    "print('Number of epochs and schedule for learning rate are set successfully')\n"
   ]
  },
  {
   "cell_type": "markdown",
   "metadata": {},
   "source": [
    "### RGB CIFAR-10 dataset (255.0 ==> mean ==> std)\n",
    "\n",
    "## Step 5: Overfitting loaded CNN model"
   ]
  },
  {
   "cell_type": "code",
   "execution_count": 18,
   "metadata": {
    "scrolled": true
   },
   "outputs": [
    {
     "name": "stdout",
     "output_type": "stream",
     "text": [
      "\n",
      "Epoch 00001: LearningRateScheduler reducing learning rate to 7.694497527671315e-05.\n",
      "Epoch 1/50\n",
      "100/100 [==============================] - 9s 93ms/step - loss: 2.4761 - accuracy: 0.0800 - val_loss: 2.3015 - val_accuracy: 0.0900\n",
      "\n",
      "Epoch 00002: LearningRateScheduler reducing learning rate to 7.30977265128775e-05.\n",
      "Epoch 2/50\n",
      "100/100 [==============================] - 9s 89ms/step - loss: 2.3078 - accuracy: 0.1100 - val_loss: 2.2744 - val_accuracy: 0.1520\n",
      "\n",
      "Epoch 00003: LearningRateScheduler reducing learning rate to 6.94428401872336e-05.\n",
      "Epoch 3/50\n",
      "100/100 [==============================] - 9s 88ms/step - loss: 2.1923 - accuracy: 0.2200 - val_loss: 2.2311 - val_accuracy: 0.1880\n",
      "\n",
      "Epoch 00004: LearningRateScheduler reducing learning rate to 6.597069817787194e-05.\n",
      "Epoch 4/50\n",
      "100/100 [==============================] - 9s 88ms/step - loss: 2.0803 - accuracy: 0.2600 - val_loss: 2.1752 - val_accuracy: 0.1960\n",
      "\n",
      "Epoch 00005: LearningRateScheduler reducing learning rate to 6.267216326897833e-05.\n",
      "Epoch 5/50\n",
      "100/100 [==============================] - 8s 82ms/step - loss: 1.9936 - accuracy: 0.3300 - val_loss: 2.1352 - val_accuracy: 0.2020\n",
      "\n",
      "Epoch 00006: LearningRateScheduler reducing learning rate to 5.953855510552941e-05.\n",
      "Epoch 6/50\n",
      "100/100 [==============================] - 8s 81ms/step - loss: 1.9198 - accuracy: 0.2600 - val_loss: 2.1154 - val_accuracy: 0.2320\n",
      "\n",
      "Epoch 00007: LearningRateScheduler reducing learning rate to 5.656162735025293e-05.\n",
      "Epoch 7/50\n",
      "100/100 [==============================] - 8s 80ms/step - loss: 1.8071 - accuracy: 0.3300 - val_loss: 2.0928 - val_accuracy: 0.2460\n",
      "\n",
      "Epoch 00008: LearningRateScheduler reducing learning rate to 5.373354598274029e-05.\n",
      "Epoch 8/50\n",
      "100/100 [==============================] - 8s 80ms/step - loss: 1.7685 - accuracy: 0.3600 - val_loss: 2.0888 - val_accuracy: 0.2320\n",
      "\n",
      "Epoch 00009: LearningRateScheduler reducing learning rate to 5.1046868683603266e-05.\n",
      "Epoch 9/50\n",
      "100/100 [==============================] - 8s 81ms/step - loss: 1.7124 - accuracy: 0.3900 - val_loss: 2.0914 - val_accuracy: 0.2240\n",
      "\n",
      "Epoch 00010: LearningRateScheduler reducing learning rate to 4.8494525249423105e-05.\n",
      "Epoch 10/50\n",
      "100/100 [==============================] - 8s 78ms/step - loss: 1.5830 - accuracy: 0.4400 - val_loss: 2.1075 - val_accuracy: 0.2120\n",
      "\n",
      "Epoch 00011: LearningRateScheduler reducing learning rate to 4.6069798986951947e-05.\n",
      "Epoch 11/50\n",
      "100/100 [==============================] - 8s 76ms/step - loss: 1.5590 - accuracy: 0.4600 - val_loss: 2.0983 - val_accuracy: 0.2380\n",
      "\n",
      "Epoch 00012: LearningRateScheduler reducing learning rate to 4.3766309037604346e-05.\n",
      "Epoch 12/50\n",
      "100/100 [==============================] - 8s 80ms/step - loss: 1.3274 - accuracy: 0.6200 - val_loss: 2.1098 - val_accuracy: 0.2340\n",
      "\n",
      "Epoch 00013: LearningRateScheduler reducing learning rate to 4.157799358572413e-05.\n",
      "Epoch 13/50\n",
      "100/100 [==============================] - 8s 79ms/step - loss: 1.3037 - accuracy: 0.5300 - val_loss: 2.2037 - val_accuracy: 0.2100\n",
      "\n",
      "Epoch 00014: LearningRateScheduler reducing learning rate to 3.949909390643792e-05.\n",
      "Epoch 14/50\n",
      "100/100 [==============================] - 8s 77ms/step - loss: 1.2608 - accuracy: 0.5600 - val_loss: 2.1538 - val_accuracy: 0.2400\n",
      "\n",
      "Epoch 00015: LearningRateScheduler reducing learning rate to 3.752413921111602e-05.\n",
      "Epoch 15/50\n",
      "100/100 [==============================] - 7s 74ms/step - loss: 1.1575 - accuracy: 0.5600 - val_loss: 2.1966 - val_accuracy: 0.2580\n",
      "\n",
      "Epoch 00016: LearningRateScheduler reducing learning rate to 3.564793225056022e-05.\n",
      "Epoch 16/50\n",
      "100/100 [==============================] - 8s 75ms/step - loss: 1.0740 - accuracy: 0.6500 - val_loss: 2.2639 - val_accuracy: 0.2380\n",
      "\n",
      "Epoch 00017: LearningRateScheduler reducing learning rate to 3.386553563803221e-05.\n",
      "Epoch 17/50\n",
      "100/100 [==============================] - 8s 75ms/step - loss: 1.0704 - accuracy: 0.6000 - val_loss: 2.2373 - val_accuracy: 0.2420\n",
      "\n",
      "Epoch 00018: LearningRateScheduler reducing learning rate to 3.217225885613059e-05.\n",
      "Epoch 18/50\n",
      "100/100 [==============================] - 7s 73ms/step - loss: 0.8711 - accuracy: 0.7300 - val_loss: 2.3614 - val_accuracy: 0.2320\n",
      "\n",
      "Epoch 00019: LearningRateScheduler reducing learning rate to 3.0563645913324066e-05.\n",
      "Epoch 19/50\n",
      "100/100 [==============================] - 8s 76ms/step - loss: 0.8008 - accuracy: 0.6900 - val_loss: 2.3526 - val_accuracy: 0.2360\n",
      "\n",
      "Epoch 00020: LearningRateScheduler reducing learning rate to 2.903546361765786e-05.\n",
      "Epoch 20/50\n",
      "100/100 [==============================] - 7s 74ms/step - loss: 0.7813 - accuracy: 0.6800 - val_loss: 2.4813 - val_accuracy: 0.2120\n",
      "\n",
      "Epoch 00021: LearningRateScheduler reducing learning rate to 2.7583690436774966e-05.\n",
      "Epoch 21/50\n",
      "100/100 [==============================] - 7s 74ms/step - loss: 0.6389 - accuracy: 0.7900 - val_loss: 2.5169 - val_accuracy: 0.2400\n",
      "\n",
      "Epoch 00022: LearningRateScheduler reducing learning rate to 2.6204505914936218e-05.\n",
      "Epoch 22/50\n",
      "100/100 [==============================] - 7s 74ms/step - loss: 0.5999 - accuracy: 0.8300 - val_loss: 2.6067 - val_accuracy: 0.2420\n",
      "\n",
      "Epoch 00023: LearningRateScheduler reducing learning rate to 2.4894280619189404e-05.\n",
      "Epoch 23/50\n",
      "100/100 [==============================] - 7s 73ms/step - loss: 0.6472 - accuracy: 0.7700 - val_loss: 2.6419 - val_accuracy: 0.2480\n",
      "\n",
      "Epoch 00024: LearningRateScheduler reducing learning rate to 2.3649566588229933e-05.\n",
      "Epoch 24/50\n",
      "100/100 [==============================] - 7s 72ms/step - loss: 0.5311 - accuracy: 0.7500 - val_loss: 2.8186 - val_accuracy: 0.2480\n",
      "\n",
      "Epoch 00025: LearningRateScheduler reducing learning rate to 2.2467088258818436e-05.\n",
      "Epoch 25/50\n",
      "100/100 [==============================] - 7s 73ms/step - loss: 0.7356 - accuracy: 0.7500 - val_loss: 2.5580 - val_accuracy: 0.2440\n",
      "\n",
      "Epoch 00026: LearningRateScheduler reducing learning rate to 2.134373384587751e-05.\n",
      "Epoch 26/50\n",
      "100/100 [==============================] - 8s 81ms/step - loss: 0.4257 - accuracy: 0.8900 - val_loss: 2.7888 - val_accuracy: 0.2360\n",
      "\n",
      "Epoch 00027: LearningRateScheduler reducing learning rate to 2.0276547153583635e-05.\n",
      "Epoch 27/50\n",
      "100/100 [==============================] - 8s 80ms/step - loss: 0.4257 - accuracy: 0.8700 - val_loss: 2.8599 - val_accuracy: 0.2520\n",
      "\n",
      "Epoch 00028: LearningRateScheduler reducing learning rate to 1.9262719795904453e-05.\n",
      "Epoch 28/50\n",
      "100/100 [==============================] - 8s 76ms/step - loss: 0.4068 - accuracy: 0.9200 - val_loss: 2.9439 - val_accuracy: 0.2460\n",
      "\n",
      "Epoch 00029: LearningRateScheduler reducing learning rate to 1.8299583806109228e-05.\n",
      "Epoch 29/50\n",
      "100/100 [==============================] - 9s 93ms/step - loss: 0.3757 - accuracy: 0.8800 - val_loss: 3.0123 - val_accuracy: 0.2560\n",
      "\n",
      "Epoch 00030: LearningRateScheduler reducing learning rate to 1.7384604615803768e-05.\n",
      "Epoch 30/50\n",
      "100/100 [==============================] - 9s 89ms/step - loss: 0.4028 - accuracy: 0.8400 - val_loss: 3.0390 - val_accuracy: 0.2360\n",
      "\n",
      "Epoch 00031: LearningRateScheduler reducing learning rate to 1.651537438501358e-05.\n",
      "Epoch 31/50\n",
      "100/100 [==============================] - 9s 86ms/step - loss: 0.4385 - accuracy: 0.8400 - val_loss: 2.9873 - val_accuracy: 0.2520\n",
      "\n",
      "Epoch 00032: LearningRateScheduler reducing learning rate to 1.56896056657629e-05.\n",
      "Epoch 32/50\n",
      "100/100 [==============================] - 9s 89ms/step - loss: 0.3410 - accuracy: 0.8900 - val_loss: 3.0535 - val_accuracy: 0.2340\n",
      "\n",
      "Epoch 00033: LearningRateScheduler reducing learning rate to 1.4905125382474753e-05.\n",
      "Epoch 33/50\n",
      "100/100 [==============================] - 8s 81ms/step - loss: 0.3685 - accuracy: 0.9200 - val_loss: 3.0347 - val_accuracy: 0.2400\n",
      "\n",
      "Epoch 00034: LearningRateScheduler reducing learning rate to 1.4159869113351015e-05.\n",
      "Epoch 34/50\n",
      "100/100 [==============================] - 8s 80ms/step - loss: 0.2767 - accuracy: 0.9300 - val_loss: 3.1639 - val_accuracy: 0.2440\n",
      "\n",
      "Epoch 00035: LearningRateScheduler reducing learning rate to 1.3451875657683464e-05.\n",
      "Epoch 35/50\n",
      "100/100 [==============================] - 8s 83ms/step - loss: 0.3739 - accuracy: 0.9000 - val_loss: 3.1851 - val_accuracy: 0.2440\n",
      "\n",
      "Epoch 00036: LearningRateScheduler reducing learning rate to 1.2779281874799288e-05.\n",
      "Epoch 36/50\n"
     ]
    },
    {
     "name": "stdout",
     "output_type": "stream",
     "text": [
      "100/100 [==============================] - 9s 89ms/step - loss: 0.2647 - accuracy: 0.9200 - val_loss: 3.2043 - val_accuracy: 0.2620\n",
      "\n",
      "Epoch 00037: LearningRateScheduler reducing learning rate to 1.2140317781059324e-05.\n",
      "Epoch 37/50\n",
      "100/100 [==============================] - 9s 85ms/step - loss: 0.2432 - accuracy: 0.9400 - val_loss: 3.1775 - val_accuracy: 0.2560\n",
      "\n",
      "Epoch 00038: LearningRateScheduler reducing learning rate to 1.1533301892006358e-05.\n",
      "Epoch 38/50\n",
      "100/100 [==============================] - 9s 89ms/step - loss: 0.2756 - accuracy: 0.9000 - val_loss: 3.2557 - val_accuracy: 0.2500\n",
      "\n",
      "Epoch 00039: LearningRateScheduler reducing learning rate to 1.095663679740604e-05.\n",
      "Epoch 39/50\n",
      "100/100 [==============================] - 9s 90ms/step - loss: 0.2339 - accuracy: 0.9400 - val_loss: 3.3115 - val_accuracy: 0.2500\n",
      "\n",
      "Epoch 00040: LearningRateScheduler reducing learning rate to 1.0408804957535738e-05.\n",
      "Epoch 40/50\n",
      "100/100 [==============================] - 8s 80ms/step - loss: 0.2799 - accuracy: 0.9300 - val_loss: 3.3234 - val_accuracy: 0.2440\n",
      "\n",
      "Epoch 00041: LearningRateScheduler reducing learning rate to 9.88836470965895e-06.\n",
      "Epoch 41/50\n",
      "100/100 [==============================] - 8s 85ms/step - loss: 0.2205 - accuracy: 0.9500 - val_loss: 3.3178 - val_accuracy: 0.2520\n",
      "\n",
      "Epoch 00042: LearningRateScheduler reducing learning rate to 9.393946474176e-06.\n",
      "Epoch 42/50\n",
      "100/100 [==============================] - 8s 79ms/step - loss: 0.1697 - accuracy: 0.9800 - val_loss: 3.4355 - val_accuracy: 0.2500\n",
      "\n",
      "Epoch 00043: LearningRateScheduler reducing learning rate to 8.924249150467201e-06.\n",
      "Epoch 43/50\n",
      "100/100 [==============================] - 8s 79ms/step - loss: 0.1435 - accuracy: 0.9800 - val_loss: 3.4389 - val_accuracy: 0.2460\n",
      "\n",
      "Epoch 00044: LearningRateScheduler reducing learning rate to 8.478036692943842e-06.\n",
      "Epoch 44/50\n",
      "100/100 [==============================] - 8s 83ms/step - loss: 0.1995 - accuracy: 0.9400 - val_loss: 3.4657 - val_accuracy: 0.2380\n",
      "\n",
      "Epoch 00045: LearningRateScheduler reducing learning rate to 8.054134858296648e-06.\n",
      "Epoch 45/50\n",
      "100/100 [==============================] - 8s 85ms/step - loss: 0.1317 - accuracy: 0.9600 - val_loss: 3.4432 - val_accuracy: 0.2520\n",
      "\n",
      "Epoch 00046: LearningRateScheduler reducing learning rate to 7.651428115381816e-06.\n",
      "Epoch 46/50\n",
      "100/100 [==============================] - 9s 89ms/step - loss: 0.1682 - accuracy: 0.9600 - val_loss: 3.5152 - val_accuracy: 0.2500\n",
      "\n",
      "Epoch 00047: LearningRateScheduler reducing learning rate to 7.2688567096127245e-06.\n",
      "Epoch 47/50\n",
      "100/100 [==============================] - 9s 87ms/step - loss: 0.1758 - accuracy: 0.9600 - val_loss: 3.5340 - val_accuracy: 0.2460\n",
      "\n",
      "Epoch 00048: LearningRateScheduler reducing learning rate to 6.905413874132088e-06.\n",
      "Epoch 48/50\n",
      "100/100 [==============================] - 11s 108ms/step - loss: 0.1551 - accuracy: 0.9600 - val_loss: 3.5579 - val_accuracy: 0.2580\n",
      "\n",
      "Epoch 00049: LearningRateScheduler reducing learning rate to 6.560143180425483e-06.\n",
      "Epoch 49/50\n",
      "100/100 [==============================] - 10s 104ms/step - loss: 0.1427 - accuracy: 0.9600 - val_loss: 3.6568 - val_accuracy: 0.2480\n",
      "\n",
      "Epoch 00050: LearningRateScheduler reducing learning rate to 6.2321360214042085e-06.\n",
      "Epoch 50/50\n",
      "100/100 [==============================] - 9s 87ms/step - loss: 0.1907 - accuracy: 0.9500 - val_loss: 3.7197 - val_accuracy: 0.2480\n"
     ]
    }
   ],
   "source": [
    "# If you're using Nvidia GPU and 'cnngpu' environment, there might be an issue like:\n",
    "'''Failed to get convolution algorithm. This is probably because cuDNN failed to initialize'''\n",
    "# In this case, close all Jupyter Notebooks, close Terminal Window or Anaconda Prompt\n",
    "# Open again just this one Jupyter Notebook and run it\n",
    "\n",
    "\n",
    "# Training model\n",
    "h = model.fit(x_train[:100], y_train[:100],\n",
    "                        batch_size=1,\n",
    "                        epochs=epochs,\n",
    "                        validation_data=(x_validation[:500], y_validation[:500]),\n",
    "                        callbacks=[learning_rate],\n",
    "                        verbose=1)\n"
   ]
  },
  {
   "cell_type": "markdown",
   "metadata": {},
   "source": [
    "### RGB CIFAR-10 dataset (255.0 ==> mean ==> std)\n",
    "\n",
    "## Step 6: Showing and plotting accuracies"
   ]
  },
  {
   "cell_type": "code",
   "execution_count": 19,
   "metadata": {},
   "outputs": [
    {
     "name": "stdout",
     "output_type": "stream",
     "text": [
      "Training accuracy=0.98000, Validation accuracy=0.26200\n"
     ]
    }
   ],
   "source": [
    "# Accuracies of the model\n",
    "print('Training accuracy={0:.5f}, Validation accuracy={1:.5f}'.\n",
    "                                                             format(max(h.history['accuracy']),\n",
    "                                                                    max(h.history['val_accuracy'])))\n"
   ]
  },
  {
   "cell_type": "code",
   "execution_count": 20,
   "metadata": {},
   "outputs": [
    {
     "data": {
      "image/png": "[encoded data removed]",
      "text/plain": [
       "<Figure size 1200x600 with 1 Axes>"
      ]
     },
     "metadata": {},
     "output_type": "display_data"
    }
   ],
   "source": [
    "# Magic function that renders the figure in a jupyter notebook\n",
    "# instead of displaying a figure object\n",
    "%matplotlib inline\n",
    "\n",
    "\n",
    "# Setting default size of the plot\n",
    "plt.rcParams['figure.figsize'] = (12.0, 6.0)\n",
    "\n",
    "\n",
    "# Plotting accuracies for every model\n",
    "plt.plot(h.history['accuracy'], '-o')\n",
    "plt.plot(h.history['val_accuracy'], '-o')\n",
    "\n",
    "\n",
    "# Showing legend\n",
    "plt.legend(['training accuracy', 'validation accuracy'], loc='upper left', fontsize='xx-large')\n",
    "\n",
    "\n",
    "# Giving name to axes\n",
    "plt.xlabel('Epoch', fontsize=16)\n",
    "plt.ylabel('Accuracy', fontsize=16)\n",
    "\n",
    "\n",
    "# Giving name to the plot\n",
    "plt.title('Overfitting model for CIFAR-10 Dataset', fontsize=16)\n",
    "\n",
    "\n",
    "# Saving plot\n",
    "plt.savefig('overfitted_model_of_cifar10_dataset.png', dpi=500)\n",
    "\n",
    "\n",
    "# Showing the plot\n",
    "plt.show()\n"
   ]
  },
  {
   "cell_type": "markdown",
   "metadata": {},
   "source": [
    "### GRAY MNIST dataset (255.0 ==> mean ==> std)\n",
    "\n",
    "## Step 1: Opening preprocessed dataset"
   ]
  },
  {
   "cell_type": "code",
   "execution_count": 21,
   "metadata": {},
   "outputs": [
    {
     "name": "stdout",
     "output_type": "stream",
     "text": [
      "['x_test', 'x_train', 'x_validation', 'y_test', 'y_train', 'y_validation']\n"
     ]
    }
   ],
   "source": [
    "# Opening saved MNIST dataset from HDF5 binary file\n",
    "# Initiating File object\n",
    "# Opening file in reading mode by 'r'\n",
    "# (!) On Windows, it might need to change\n",
    "# this: + '/' +\n",
    "# to this: + '\\' +\n",
    "# or to this: + '\\\\' +\n",
    "with h5py.File(full_path_to_Section4 + '/' + 'mnist' + '/' +\n",
    "               'dataset_mnist_gray_255_mean_std.hdf5', 'r') as f:\n",
    "    \n",
    "    # Showing all keys in the HDF5 binary file\n",
    "    print(list(f.keys()))\n",
    "    \n",
    "    # Extracting saved arrays for training by appropriate keys\n",
    "    # Saving them into new variables    \n",
    "    x_train = f['x_train']  # HDF5 dataset\n",
    "    y_train = f['y_train']  # HDF5 dataset\n",
    "    # Converting them into Numpy arrays\n",
    "    x_train = np.array(x_train)  # Numpy arrays\n",
    "    y_train = np.array(y_train)  # Numpy arrays\n",
    "    \n",
    "    \n",
    "    # Extracting saved arrays for validation by appropriate keys\n",
    "    # Saving them into new variables \n",
    "    x_validation = f['x_validation']  # HDF5 dataset\n",
    "    y_validation = f['y_validation']  # HDF5 dataset\n",
    "    # Converting them into Numpy arrays\n",
    "    x_validation = np.array(x_validation)  # Numpy arrays\n",
    "    y_validation = np.array(y_validation)  # Numpy arrays\n",
    "    \n",
    "    \n",
    "    # Extracting saved arrays for testing by appropriate keys\n",
    "    # Saving them into new variables \n",
    "    x_test = f['x_test']  # HDF5 dataset\n",
    "    y_test = f['y_test']  # HDF5 dataset\n",
    "    # Converting them into Numpy arrays\n",
    "    x_test = np.array(x_test)  # Numpy arrays\n",
    "    y_test = np.array(y_test)  # Numpy arrays\n"
   ]
  },
  {
   "cell_type": "code",
   "execution_count": 22,
   "metadata": {},
   "outputs": [
    {
     "name": "stdout",
     "output_type": "stream",
     "text": [
      "<class 'numpy.ndarray'>\n",
      "<class 'numpy.ndarray'>\n",
      "<class 'numpy.ndarray'>\n",
      "<class 'numpy.ndarray'>\n",
      "<class 'numpy.ndarray'>\n",
      "<class 'numpy.ndarray'>\n",
      "\n",
      "(51000, 28, 28, 1)\n",
      "(51000,)\n",
      "(9000, 28, 28, 1)\n",
      "(9000,)\n",
      "(10000, 28, 28, 1)\n",
      "(10000,)\n"
     ]
    }
   ],
   "source": [
    "# Showing types of loaded arrays\n",
    "print(type(x_train))\n",
    "print(type(y_train))\n",
    "print(type(x_validation))\n",
    "print(type(y_validation))\n",
    "print(type(x_test))\n",
    "print(type(y_test))\n",
    "print()\n",
    "\n",
    "\n",
    "# Showing shapes of loaded arrays\n",
    "print(x_train.shape)\n",
    "print(y_train.shape)\n",
    "print(x_validation.shape)\n",
    "print(y_validation.shape)\n",
    "print(x_test.shape)\n",
    "print(y_test.shape)\n"
   ]
  },
  {
   "cell_type": "markdown",
   "metadata": {},
   "source": [
    "### GRAY MNIST dataset (255.0 ==> mean ==> std)\n",
    "\n",
    "## Step 2: Converting classes vectors to classes matrices"
   ]
  },
  {
   "cell_type": "code",
   "execution_count": 23,
   "metadata": {},
   "outputs": [
    {
     "name": "stdout",
     "output_type": "stream",
     "text": [
      "Class index from vector: 6\n",
      "\n",
      "(51000, 10)\n",
      "(9000, 10)\n",
      "\n",
      "Class index from matrix: [0. 0. 0. 0. 0. 0. 1. 0. 0. 0.]\n"
     ]
    }
   ],
   "source": [
    "# Showing class index from the vector\n",
    "print('Class index from vector:', y_train[5])\n",
    "print()\n",
    "\n",
    "# Preparing classes to be passed into the model\n",
    "# Transforming them from vectors to binary matrices\n",
    "# It is needed to set relationship between classes to be understood by the algorithm\n",
    "# Such format is commonly used in training and predicting\n",
    "y_train = to_categorical(y_train, num_classes = 10)\n",
    "y_validation = to_categorical(y_validation, num_classes = 10)\n",
    "\n",
    "\n",
    "# Showing shapes of converted vectors into matrices\n",
    "print(y_train.shape)\n",
    "print(y_validation.shape)\n",
    "print()\n",
    "\n",
    "\n",
    "# Showing class index from the matrix\n",
    "print('Class index from matrix:', y_train[5])\n"
   ]
  },
  {
   "cell_type": "markdown",
   "metadata": {},
   "source": [
    "### GRAY MNIST dataset (255.0 ==> mean ==> std)\n",
    "\n",
    "## Step 3: Loading saved model"
   ]
  },
  {
   "cell_type": "code",
   "execution_count": 24,
   "metadata": {},
   "outputs": [
    {
     "name": "stdout",
     "output_type": "stream",
     "text": [
      "Model is successfully loaded\n"
     ]
    }
   ],
   "source": [
    "# Loading 1st model for GRAY datasets\n",
    "# (!) On Windows, it might need to change\n",
    "# this: + '/' +\n",
    "# to this: + '\\' +\n",
    "# or to this: + '\\\\' +\n",
    "model = load_model(full_path_to_Section5 + '/' + 'mnist' + '/' + 'model_1_mnist_gray.h5')\n",
    "\n",
    "# Check point\n",
    "print('Model is successfully loaded')\n"
   ]
  },
  {
   "cell_type": "code",
   "execution_count": 25,
   "metadata": {
    "scrolled": false
   },
   "outputs": [
    {
     "name": "stdout",
     "output_type": "stream",
     "text": [
      "Model: \"sequential_8\"\n",
      "_________________________________________________________________\n",
      "Layer (type)                 Output Shape              Param #   \n",
      "=================================================================\n",
      "conv2d_18 (Conv2D)           (None, 28, 28, 128)       3328      \n",
      "_________________________________________________________________\n",
      "conv2d_19 (Conv2D)           (None, 14, 14, 128)       65664     \n",
      "_________________________________________________________________\n",
      "dropout_26 (Dropout)         (None, 14, 14, 128)       0         \n",
      "_________________________________________________________________\n",
      "conv2d_20 (Conv2D)           (None, 14, 14, 256)       819456    \n",
      "_________________________________________________________________\n",
      "conv2d_21 (Conv2D)           (None, 7, 7, 256)         262400    \n",
      "_________________________________________________________________\n",
      "dropout_27 (Dropout)         (None, 7, 7, 256)         0         \n",
      "_________________________________________________________________\n",
      "conv2d_22 (Conv2D)           (None, 7, 7, 512)         3277312   \n",
      "_________________________________________________________________\n",
      "conv2d_23 (Conv2D)           (None, 4, 4, 512)         1049088   \n",
      "_________________________________________________________________\n",
      "dropout_28 (Dropout)         (None, 4, 4, 512)         0         \n",
      "_________________________________________________________________\n",
      "flatten_8 (Flatten)          (None, 8192)              0         \n",
      "_________________________________________________________________\n",
      "dense_16 (Dense)             (None, 256)               2097408   \n",
      "_________________________________________________________________\n",
      "dropout_29 (Dropout)         (None, 256)               0         \n",
      "_________________________________________________________________\n",
      "dense_17 (Dense)             (None, 10)                2570      \n",
      "=================================================================\n",
      "Total params: 7,577,226\n",
      "Trainable params: 7,577,226\n",
      "Non-trainable params: 0\n",
      "_________________________________________________________________\n",
      "None\n",
      "\n",
      "Dropout rate:  0.3\n",
      "Strides of the 1st convolutional layer:  (1, 1)\n",
      "Strides of the 2nd convolutional layer:  (2, 2)\n",
      "\n",
      "Full configuration details of the 1st layer:\n",
      " {'class_name': 'InputLayer', 'config': {'batch_input_shape': (None, 28, 28, 1), 'dtype': 'float32', 'sparse': False, 'ragged': False, 'name': 'conv2d_18_input'}}\n"
     ]
    }
   ],
   "source": [
    "# Showing model's summary in table format\n",
    "print(model.summary())\n",
    "print()\n",
    "\n",
    "\n",
    "# Showing dropout rate\n",
    "print('Dropout rate: ', model.layers[2].rate)\n",
    "\n",
    "# Showing strides for the 1st layer (convolutional)\n",
    "print('Strides of the 1st convolutional layer: ', model.layers[0].strides)\n",
    "\n",
    "# Showing strides for the 2nd layer (convolutional with strides 2)\n",
    "print('Strides of the 2nd convolutional layer: ', model.layers[1].strides)\n",
    "print()\n",
    "\n",
    "# Showing configurations for entire model\n",
    "# print(model.get_config())\n",
    "\n",
    "# Showing configurations for specific layers\n",
    "print('Full configuration details of the 1st layer:\\n', model.get_config()['layers'][0])\n"
   ]
  },
  {
   "cell_type": "markdown",
   "metadata": {},
   "source": [
    "### GRAY MNIST dataset (255.0 ==> mean ==> std)\n",
    "\n",
    "## Step 4: Setting up learning rate & epochs"
   ]
  },
  {
   "cell_type": "code",
   "execution_count": 26,
   "metadata": {},
   "outputs": [
    {
     "name": "stdout",
     "output_type": "stream",
     "text": [
      "Number of epochs and schedule for learning rate are set successfully\n"
     ]
    }
   ],
   "source": [
    "# Defining number of epochs\n",
    "epochs = 50\n",
    "\n",
    "# Defining schedule to update learning rate\n",
    "learning_rate = LearningRateScheduler(lambda x: 1e-3 * 0.95 ** (x + epochs), verbose=1)\n",
    "\n",
    "# Check point\n",
    "print('Number of epochs and schedule for learning rate are set successfully')\n"
   ]
  },
  {
   "cell_type": "markdown",
   "metadata": {},
   "source": [
    "### GRAY MNIST dataset (255.0 ==> mean ==> std)\n",
    "\n",
    "## Step 5: Overfitting loaded CNN model"
   ]
  },
  {
   "cell_type": "code",
   "execution_count": 27,
   "metadata": {
    "scrolled": true
   },
   "outputs": [
    {
     "name": "stdout",
     "output_type": "stream",
     "text": [
      "\n",
      "Epoch 00001: LearningRateScheduler reducing learning rate to 7.694497527671315e-05.\n",
      "Epoch 1/50\n",
      "20/20 [==============================] - 5s 240ms/step - loss: 2.2983 - accuracy: 0.2500 - val_loss: 2.3008 - val_accuracy: 0.0960\n",
      "\n",
      "Epoch 00002: LearningRateScheduler reducing learning rate to 7.30977265128775e-05.\n",
      "Epoch 2/50\n",
      "20/20 [==============================] - 5s 253ms/step - loss: 2.1318 - accuracy: 0.3000 - val_loss: 2.4431 - val_accuracy: 0.0960\n",
      "\n",
      "Epoch 00003: LearningRateScheduler reducing learning rate to 6.94428401872336e-05.\n",
      "Epoch 3/50\n",
      "20/20 [==============================] - 5s 233ms/step - loss: 1.9920 - accuracy: 0.3000 - val_loss: 2.3664 - val_accuracy: 0.0960\n",
      "\n",
      "Epoch 00004: LearningRateScheduler reducing learning rate to 6.597069817787194e-05.\n",
      "Epoch 4/50\n",
      "20/20 [==============================] - 5s 242ms/step - loss: 1.9827 - accuracy: 0.3000 - val_loss: 2.4047 - val_accuracy: 0.0960\n",
      "\n",
      "Epoch 00005: LearningRateScheduler reducing learning rate to 6.267216326897833e-05.\n",
      "Epoch 5/50\n",
      "20/20 [==============================] - 5s 241ms/step - loss: 1.7674 - accuracy: 0.4000 - val_loss: 2.4791 - val_accuracy: 0.1480\n",
      "\n",
      "Epoch 00006: LearningRateScheduler reducing learning rate to 5.953855510552941e-05.\n",
      "Epoch 6/50\n",
      "20/20 [==============================] - 5s 238ms/step - loss: 1.7078 - accuracy: 0.5000 - val_loss: 2.4264 - val_accuracy: 0.1640\n",
      "\n",
      "Epoch 00007: LearningRateScheduler reducing learning rate to 5.656162735025293e-05.\n",
      "Epoch 7/50\n",
      "20/20 [==============================] - 5s 268ms/step - loss: 1.6014 - accuracy: 0.5000 - val_loss: 2.3238 - val_accuracy: 0.1620\n",
      "\n",
      "Epoch 00008: LearningRateScheduler reducing learning rate to 5.373354598274029e-05.\n",
      "Epoch 8/50\n",
      "20/20 [==============================] - 5s 246ms/step - loss: 1.4293 - accuracy: 0.5500 - val_loss: 2.3397 - val_accuracy: 0.1800\n",
      "\n",
      "Epoch 00009: LearningRateScheduler reducing learning rate to 5.1046868683603266e-05.\n",
      "Epoch 9/50\n",
      "20/20 [==============================] - 5s 250ms/step - loss: 1.2430 - accuracy: 0.6500 - val_loss: 2.5318 - val_accuracy: 0.1820\n",
      "\n",
      "Epoch 00010: LearningRateScheduler reducing learning rate to 4.8494525249423105e-05.\n",
      "Epoch 10/50\n",
      "20/20 [==============================] - 6s 279ms/step - loss: 1.2723 - accuracy: 0.6000 - val_loss: 2.1024 - val_accuracy: 0.2640\n",
      "\n",
      "Epoch 00011: LearningRateScheduler reducing learning rate to 4.6069798986951947e-05.\n",
      "Epoch 11/50\n",
      "20/20 [==============================] - 5s 238ms/step - loss: 0.7897 - accuracy: 0.8500 - val_loss: 2.4720 - val_accuracy: 0.2640\n",
      "\n",
      "Epoch 00012: LearningRateScheduler reducing learning rate to 4.3766309037604346e-05.\n",
      "Epoch 12/50\n",
      "20/20 [==============================] - 6s 308ms/step - loss: 0.5164 - accuracy: 0.8500 - val_loss: 2.5523 - val_accuracy: 0.3620\n",
      "\n",
      "Epoch 00013: LearningRateScheduler reducing learning rate to 4.157799358572413e-05.\n",
      "Epoch 13/50\n",
      "20/20 [==============================] - 6s 311ms/step - loss: 0.6637 - accuracy: 0.7500 - val_loss: 2.9096 - val_accuracy: 0.3440\n",
      "\n",
      "Epoch 00014: LearningRateScheduler reducing learning rate to 3.949909390643792e-05.\n",
      "Epoch 14/50\n",
      "20/20 [==============================] - 5s 245ms/step - loss: 0.4265 - accuracy: 0.8500 - val_loss: 2.5309 - val_accuracy: 0.3820\n",
      "\n",
      "Epoch 00015: LearningRateScheduler reducing learning rate to 3.752413921111602e-05.\n",
      "Epoch 15/50\n",
      "20/20 [==============================] - 5s 250ms/step - loss: 0.2860 - accuracy: 0.9000 - val_loss: 2.9272 - val_accuracy: 0.3800\n",
      "\n",
      "Epoch 00016: LearningRateScheduler reducing learning rate to 3.564793225056022e-05.\n",
      "Epoch 16/50\n",
      "20/20 [==============================] - 4s 223ms/step - loss: 0.2412 - accuracy: 0.9500 - val_loss: 2.6271 - val_accuracy: 0.4120\n",
      "\n",
      "Epoch 00017: LearningRateScheduler reducing learning rate to 3.386553563803221e-05.\n",
      "Epoch 17/50\n",
      "20/20 [==============================] - 5s 250ms/step - loss: 0.1822 - accuracy: 0.9500 - val_loss: 2.9491 - val_accuracy: 0.3840\n",
      "\n",
      "Epoch 00018: LearningRateScheduler reducing learning rate to 3.217225885613059e-05.\n",
      "Epoch 18/50\n",
      "20/20 [==============================] - 5s 234ms/step - loss: 0.1250 - accuracy: 1.0000 - val_loss: 3.0946 - val_accuracy: 0.4160\n",
      "\n",
      "Epoch 00019: LearningRateScheduler reducing learning rate to 3.0563645913324066e-05.\n",
      "Epoch 19/50\n",
      "20/20 [==============================] - 5s 235ms/step - loss: 0.0632 - accuracy: 1.0000 - val_loss: 3.2594 - val_accuracy: 0.4240\n",
      "\n",
      "Epoch 00020: LearningRateScheduler reducing learning rate to 2.903546361765786e-05.\n",
      "Epoch 20/50\n",
      "20/20 [==============================] - 5s 247ms/step - loss: 0.1413 - accuracy: 0.9500 - val_loss: 3.0652 - val_accuracy: 0.4180\n",
      "\n",
      "Epoch 00021: LearningRateScheduler reducing learning rate to 2.7583690436774966e-05.\n",
      "Epoch 21/50\n",
      "20/20 [==============================] - 5s 241ms/step - loss: 0.0684 - accuracy: 1.0000 - val_loss: 3.5319 - val_accuracy: 0.3960\n",
      "\n",
      "Epoch 00022: LearningRateScheduler reducing learning rate to 2.6204505914936218e-05.\n",
      "Epoch 22/50\n",
      "20/20 [==============================] - 5s 243ms/step - loss: 0.0906 - accuracy: 1.0000 - val_loss: 3.8122 - val_accuracy: 0.4200\n",
      "\n",
      "Epoch 00023: LearningRateScheduler reducing learning rate to 2.4894280619189404e-05.\n",
      "Epoch 23/50\n",
      "20/20 [==============================] - 5s 244ms/step - loss: 0.0484 - accuracy: 1.0000 - val_loss: 3.9686 - val_accuracy: 0.4200\n",
      "\n",
      "Epoch 00024: LearningRateScheduler reducing learning rate to 2.3649566588229933e-05.\n",
      "Epoch 24/50\n",
      "20/20 [==============================] - 6s 297ms/step - loss: 0.0408 - accuracy: 1.0000 - val_loss: 3.8106 - val_accuracy: 0.4400\n",
      "\n",
      "Epoch 00025: LearningRateScheduler reducing learning rate to 2.2467088258818436e-05.\n",
      "Epoch 25/50\n",
      "20/20 [==============================] - 7s 328ms/step - loss: 0.0488 - accuracy: 1.0000 - val_loss: 3.9639 - val_accuracy: 0.4340\n",
      "\n",
      "Epoch 00026: LearningRateScheduler reducing learning rate to 2.134373384587751e-05.\n",
      "Epoch 26/50\n",
      "20/20 [==============================] - 6s 304ms/step - loss: 0.0147 - accuracy: 1.0000 - val_loss: 3.9771 - val_accuracy: 0.4380\n",
      "\n",
      "Epoch 00027: LearningRateScheduler reducing learning rate to 2.0276547153583635e-05.\n",
      "Epoch 27/50\n",
      "20/20 [==============================] - 5s 253ms/step - loss: 0.0389 - accuracy: 1.0000 - val_loss: 3.7563 - val_accuracy: 0.4420\n",
      "\n",
      "Epoch 00028: LearningRateScheduler reducing learning rate to 1.9262719795904453e-05.\n",
      "Epoch 28/50\n",
      "20/20 [==============================] - 5s 246ms/step - loss: 0.0087 - accuracy: 1.0000 - val_loss: 3.5692 - val_accuracy: 0.4560\n",
      "\n",
      "Epoch 00029: LearningRateScheduler reducing learning rate to 1.8299583806109228e-05.\n",
      "Epoch 29/50\n",
      "20/20 [==============================] - 5s 234ms/step - loss: 0.0165 - accuracy: 1.0000 - val_loss: 3.6255 - val_accuracy: 0.4560\n",
      "\n",
      "Epoch 00030: LearningRateScheduler reducing learning rate to 1.7384604615803768e-05.\n",
      "Epoch 30/50\n",
      "20/20 [==============================] - 4s 223ms/step - loss: 0.0287 - accuracy: 1.0000 - val_loss: 3.6762 - val_accuracy: 0.4520\n",
      "\n",
      "Epoch 00031: LearningRateScheduler reducing learning rate to 1.651537438501358e-05.\n",
      "Epoch 31/50\n",
      "20/20 [==============================] - 5s 241ms/step - loss: 0.0215 - accuracy: 1.0000 - val_loss: 3.9794 - val_accuracy: 0.4300\n",
      "\n",
      "Epoch 00032: LearningRateScheduler reducing learning rate to 1.56896056657629e-05.\n",
      "Epoch 32/50\n",
      "20/20 [==============================] - 6s 278ms/step - loss: 0.0179 - accuracy: 1.0000 - val_loss: 4.1119 - val_accuracy: 0.4300\n",
      "\n",
      "Epoch 00033: LearningRateScheduler reducing learning rate to 1.4905125382474753e-05.\n",
      "Epoch 33/50\n",
      "20/20 [==============================] - 6s 299ms/step - loss: 0.0240 - accuracy: 1.0000 - val_loss: 4.1994 - val_accuracy: 0.4420\n",
      "\n",
      "Epoch 00034: LearningRateScheduler reducing learning rate to 1.4159869113351015e-05.\n",
      "Epoch 34/50\n",
      "20/20 [==============================] - 5s 273ms/step - loss: 0.0093 - accuracy: 1.0000 - val_loss: 4.2176 - val_accuracy: 0.4400\n",
      "\n",
      "Epoch 00035: LearningRateScheduler reducing learning rate to 1.3451875657683464e-05.\n",
      "Epoch 35/50\n",
      "20/20 [==============================] - 6s 281ms/step - loss: 0.4666 - accuracy: 0.9500 - val_loss: 4.0356 - val_accuracy: 0.4500\n",
      "\n",
      "Epoch 00036: LearningRateScheduler reducing learning rate to 1.2779281874799288e-05.\n",
      "Epoch 36/50\n",
      "20/20 [==============================] - 6s 277ms/step - loss: 0.0302 - accuracy: 1.0000 - val_loss: 4.1270 - val_accuracy: 0.4360\n"
     ]
    },
    {
     "name": "stdout",
     "output_type": "stream",
     "text": [
      "\n",
      "Epoch 00037: LearningRateScheduler reducing learning rate to 1.2140317781059324e-05.\n",
      "Epoch 37/50\n",
      "20/20 [==============================] - 5s 271ms/step - loss: 0.0121 - accuracy: 1.0000 - val_loss: 4.1918 - val_accuracy: 0.4340\n",
      "\n",
      "Epoch 00038: LearningRateScheduler reducing learning rate to 1.1533301892006358e-05.\n",
      "Epoch 38/50\n",
      "20/20 [==============================] - 5s 248ms/step - loss: 0.0107 - accuracy: 1.0000 - val_loss: 4.2505 - val_accuracy: 0.4340\n",
      "\n",
      "Epoch 00039: LearningRateScheduler reducing learning rate to 1.095663679740604e-05.\n",
      "Epoch 39/50\n",
      "20/20 [==============================] - 5s 250ms/step - loss: 0.0824 - accuracy: 0.9500 - val_loss: 3.9725 - val_accuracy: 0.4360\n",
      "\n",
      "Epoch 00040: LearningRateScheduler reducing learning rate to 1.0408804957535738e-05.\n",
      "Epoch 40/50\n",
      "20/20 [==============================] - 5s 243ms/step - loss: 0.0188 - accuracy: 1.0000 - val_loss: 3.9833 - val_accuracy: 0.4380\n",
      "\n",
      "Epoch 00041: LearningRateScheduler reducing learning rate to 9.88836470965895e-06.\n",
      "Epoch 41/50\n",
      "20/20 [==============================] - 5s 243ms/step - loss: 0.0337 - accuracy: 1.0000 - val_loss: 3.9637 - val_accuracy: 0.4540\n",
      "\n",
      "Epoch 00042: LearningRateScheduler reducing learning rate to 9.393946474176e-06.\n",
      "Epoch 42/50\n",
      "20/20 [==============================] - 5s 243ms/step - loss: 0.0195 - accuracy: 1.0000 - val_loss: 3.9566 - val_accuracy: 0.4560\n",
      "\n",
      "Epoch 00043: LearningRateScheduler reducing learning rate to 8.924249150467201e-06.\n",
      "Epoch 43/50\n",
      "20/20 [==============================] - 5s 243ms/step - loss: 0.0119 - accuracy: 1.0000 - val_loss: 3.9583 - val_accuracy: 0.4600\n",
      "\n",
      "Epoch 00044: LearningRateScheduler reducing learning rate to 8.478036692943842e-06.\n",
      "Epoch 44/50\n",
      "20/20 [==============================] - 5s 245ms/step - loss: 0.0120 - accuracy: 1.0000 - val_loss: 4.0874 - val_accuracy: 0.4540\n",
      "\n",
      "Epoch 00045: LearningRateScheduler reducing learning rate to 8.054134858296648e-06.\n",
      "Epoch 45/50\n",
      "20/20 [==============================] - 5s 241ms/step - loss: 0.0064 - accuracy: 1.0000 - val_loss: 4.1283 - val_accuracy: 0.4500\n",
      "\n",
      "Epoch 00046: LearningRateScheduler reducing learning rate to 7.651428115381816e-06.\n",
      "Epoch 46/50\n",
      "20/20 [==============================] - 5s 246ms/step - loss: 0.0102 - accuracy: 1.0000 - val_loss: 4.1335 - val_accuracy: 0.4460\n",
      "\n",
      "Epoch 00047: LearningRateScheduler reducing learning rate to 7.2688567096127245e-06.\n",
      "Epoch 47/50\n",
      "20/20 [==============================] - 5s 241ms/step - loss: 0.0189 - accuracy: 1.0000 - val_loss: 4.1087 - val_accuracy: 0.4480\n",
      "\n",
      "Epoch 00048: LearningRateScheduler reducing learning rate to 6.905413874132088e-06.\n",
      "Epoch 48/50\n",
      "20/20 [==============================] - 5s 246ms/step - loss: 0.0088 - accuracy: 1.0000 - val_loss: 4.1172 - val_accuracy: 0.4480\n",
      "\n",
      "Epoch 00049: LearningRateScheduler reducing learning rate to 6.560143180425483e-06.\n",
      "Epoch 49/50\n",
      "20/20 [==============================] - 5s 248ms/step - loss: 0.0124 - accuracy: 1.0000 - val_loss: 4.1002 - val_accuracy: 0.4500\n",
      "\n",
      "Epoch 00050: LearningRateScheduler reducing learning rate to 6.2321360214042085e-06.\n",
      "Epoch 50/50\n",
      "20/20 [==============================] - 6s 281ms/step - loss: 0.0128 - accuracy: 1.0000 - val_loss: 4.1041 - val_accuracy: 0.4580\n"
     ]
    }
   ],
   "source": [
    "# If you're using Nvidia GPU and 'cnngpu' environment, there might be an issue like:\n",
    "'''Failed to get convolution algorithm. This is probably because cuDNN failed to initialize'''\n",
    "# In this case, close all Jupyter Notebooks, close Terminal Window or Anaconda Prompt\n",
    "# Open again just this one Jupyter Notebook and run it\n",
    "\n",
    "\n",
    "# Training model\n",
    "h = model.fit(x_train[:20], y_train[:20],\n",
    "                        batch_size=1,\n",
    "                        epochs=epochs,\n",
    "                        validation_data=(x_validation[:500], y_validation[:500]),\n",
    "                        callbacks=[learning_rate],\n",
    "                        verbose=1)\n"
   ]
  },
  {
   "cell_type": "markdown",
   "metadata": {},
   "source": [
    "### GRAY MNIST dataset (255.0 ==> mean ==> std)\n",
    "\n",
    "## Step 6: Showing and plotting accuracies"
   ]
  },
  {
   "cell_type": "code",
   "execution_count": 28,
   "metadata": {},
   "outputs": [
    {
     "name": "stdout",
     "output_type": "stream",
     "text": [
      "Training accuracy=1.00000, Validation accuracy=0.46000\n"
     ]
    }
   ],
   "source": [
    "# Accuracies of the model\n",
    "print('Training accuracy={0:.5f}, Validation accuracy={1:.5f}'.\n",
    "                                                             format(max(h.history['accuracy']),\n",
    "                                                                    max(h.history['val_accuracy'])))\n"
   ]
  },
  {
   "cell_type": "code",
   "execution_count": 29,
   "metadata": {},
   "outputs": [
    {
     "data": {
      "image/png": "[encoded data removed]",
      "text/plain": [
       "<Figure size 1200x600 with 1 Axes>"
      ]
     },
     "metadata": {},
     "output_type": "display_data"
    }
   ],
   "source": [
    "# Magic function that renders the figure in a jupyter notebook\n",
    "# instead of displaying a figure object\n",
    "%matplotlib inline\n",
    "\n",
    "\n",
    "# Setting default size of the plot\n",
    "plt.rcParams['figure.figsize'] = (12.0, 6.0)\n",
    "\n",
    "\n",
    "# Plotting accuracies for every model\n",
    "plt.plot(h.history['accuracy'], '-o')\n",
    "plt.plot(h.history['val_accuracy'], '-o')\n",
    "\n",
    "\n",
    "# Showing legend\n",
    "plt.legend(['training accuracy', 'validation accuracy'], loc='center right', fontsize='xx-large')\n",
    "\n",
    "\n",
    "# Giving name to axes\n",
    "plt.xlabel('Epoch', fontsize=16)\n",
    "plt.ylabel('Accuracy', fontsize=16)\n",
    "\n",
    "\n",
    "# Giving name to the plot\n",
    "plt.title('Overfitting model for MNIST Dataset', fontsize=16)\n",
    "\n",
    "\n",
    "# Saving plot\n",
    "plt.savefig('overfitted_model_of_mnist_dataset.png', dpi=500)\n",
    "\n",
    "\n",
    "# Showing the plot\n",
    "plt.show()\n"
   ]
  },
  {
   "cell_type": "markdown",
   "metadata": {},
   "source": [
    "### RGB Traffic Signs dataset (255.0 ==> mean ==> std)\n",
    "\n",
    "## Step 1: Opening preprocessed dataset"
   ]
  },
  {
   "cell_type": "code",
   "execution_count": 30,
   "metadata": {},
   "outputs": [
    {
     "name": "stdout",
     "output_type": "stream",
     "text": [
      "['x_test', 'x_train', 'x_validation', 'y_test', 'y_train', 'y_validation']\n"
     ]
    }
   ],
   "source": [
    "# Opening saved Traffic Signs dataset from HDF5 binary file\n",
    "# Initiating File object\n",
    "# Opening file in reading mode by 'r'\n",
    "# (!) On Windows, it might need to change\n",
    "# this: + '/' +\n",
    "# to this: + '\\' +\n",
    "# or to this: + '\\\\' +\n",
    "with h5py.File(full_path_to_Section4 + '/' + 'ts' + '/' +\n",
    "               'dataset_ts_rgb_255_mean_std.hdf5', 'r') as f:\n",
    "    \n",
    "    # Showing all keys in the HDF5 binary file\n",
    "    print(list(f.keys()))\n",
    "    \n",
    "    # Extracting saved arrays for training by appropriate keys\n",
    "    # Saving them into new variables    \n",
    "    x_train = f['x_train']  # HDF5 dataset\n",
    "    y_train = f['y_train']  # HDF5 dataset\n",
    "    # Converting them into Numpy arrays\n",
    "    x_train = np.array(x_train)  # Numpy arrays\n",
    "    y_train = np.array(y_train)  # Numpy arrays\n",
    "    \n",
    "    \n",
    "    # Extracting saved arrays for validation by appropriate keys\n",
    "    # Saving them into new variables \n",
    "    x_validation = f['x_validation']  # HDF5 dataset\n",
    "    y_validation = f['y_validation']  # HDF5 dataset\n",
    "    # Converting them into Numpy arrays\n",
    "    x_validation = np.array(x_validation)  # Numpy arrays\n",
    "    y_validation = np.array(y_validation)  # Numpy arrays\n",
    "    \n",
    "    \n",
    "    # Extracting saved arrays for testing by appropriate keys\n",
    "    # Saving them into new variables \n",
    "    x_test = f['x_test']  # HDF5 dataset\n",
    "    y_test = f['y_test']  # HDF5 dataset\n",
    "    # Converting them into Numpy arrays\n",
    "    x_test = np.array(x_test)  # Numpy arrays\n",
    "    y_test = np.array(y_test)  # Numpy arrays\n"
   ]
  },
  {
   "cell_type": "code",
   "execution_count": 31,
   "metadata": {},
   "outputs": [
    {
     "name": "stdout",
     "output_type": "stream",
     "text": [
      "<class 'numpy.ndarray'>\n",
      "<class 'numpy.ndarray'>\n",
      "<class 'numpy.ndarray'>\n",
      "<class 'numpy.ndarray'>\n",
      "<class 'numpy.ndarray'>\n",
      "<class 'numpy.ndarray'>\n",
      "\n",
      "(36288, 48, 48, 3)\n",
      "(36288,)\n",
      "(12440, 48, 48, 3)\n",
      "(12440,)\n",
      "(3111, 48, 48, 3)\n",
      "(3111,)\n"
     ]
    }
   ],
   "source": [
    "# Showing types of loaded arrays\n",
    "print(type(x_train))\n",
    "print(type(y_train))\n",
    "print(type(x_validation))\n",
    "print(type(y_validation))\n",
    "print(type(x_test))\n",
    "print(type(y_test))\n",
    "print()\n",
    "\n",
    "\n",
    "# Showing shapes of loaded arrays\n",
    "print(x_train.shape)\n",
    "print(y_train.shape)\n",
    "print(x_validation.shape)\n",
    "print(y_validation.shape)\n",
    "print(x_test.shape)\n",
    "print(y_test.shape)\n"
   ]
  },
  {
   "cell_type": "markdown",
   "metadata": {},
   "source": [
    "### RGB Traffic Signs dataset (255.0 ==> mean ==> std)\n",
    "\n",
    "## Step 2: Converting classes vectors to classes matrices"
   ]
  },
  {
   "cell_type": "code",
   "execution_count": 32,
   "metadata": {},
   "outputs": [
    {
     "name": "stdout",
     "output_type": "stream",
     "text": [
      "Class index from vector: 38\n",
      "\n",
      "(36288, 43)\n",
      "(12440, 43)\n",
      "\n",
      "Class index from matrix: [0. 0. 0. 0. 0. 0. 0. 0. 0. 0. 0. 0. 0. 0. 0. 0. 0. 0. 0. 0. 0. 0. 0. 0.\n",
      " 0. 0. 0. 0. 0. 0. 0. 0. 0. 0. 0. 0. 0. 0. 1. 0. 0. 0. 0.]\n"
     ]
    }
   ],
   "source": [
    "# Showing class index from the vector\n",
    "print('Class index from vector:', y_train[5])\n",
    "print()\n",
    "\n",
    "# Preparing classes to be passed into the model\n",
    "# Transforming them from vectors to binary matrices\n",
    "# It is needed to set relationship between classes to be understood by the algorithm\n",
    "# Such format is commonly used in training and predicting\n",
    "y_train = to_categorical(y_train, num_classes = 43)\n",
    "y_validation = to_categorical(y_validation, num_classes = 43)\n",
    "\n",
    "\n",
    "# Showing shapes of converted vectors into matrices\n",
    "print(y_train.shape)\n",
    "print(y_validation.shape)\n",
    "print()\n",
    "\n",
    "\n",
    "# Showing class index from the matrix\n",
    "print('Class index from matrix:', y_train[5])\n"
   ]
  },
  {
   "cell_type": "markdown",
   "metadata": {},
   "source": [
    "### RGB Traffic Signs dataset (255.0 ==> mean ==> std)\n",
    "\n",
    "## Step 3: Loading saved model"
   ]
  },
  {
   "cell_type": "code",
   "execution_count": 33,
   "metadata": {
    "scrolled": true
   },
   "outputs": [
    {
     "name": "stdout",
     "output_type": "stream",
     "text": [
      "Model is successfully loaded\n"
     ]
    }
   ],
   "source": [
    "# Loading 1st model for RGB datasets\n",
    "# (!) On Windows, it might need to change\n",
    "# this: + '/' +\n",
    "# to this: + '\\' +\n",
    "# or to this: + '\\\\' +\n",
    "model = load_model(full_path_to_Section5 + '/' + 'ts' + '/' + 'model_1_ts_rgb.h5')\n",
    "\n",
    "# Check point\n",
    "print('Model is successfully loaded')\n"
   ]
  },
  {
   "cell_type": "code",
   "execution_count": 34,
   "metadata": {},
   "outputs": [
    {
     "name": "stdout",
     "output_type": "stream",
     "text": [
      "Model: \"sequential_10\"\n",
      "_________________________________________________________________\n",
      "Layer (type)                 Output Shape              Param #   \n",
      "=================================================================\n",
      "conv2d_26 (Conv2D)           (None, 48, 48, 128)       9728      \n",
      "_________________________________________________________________\n",
      "max_pooling2d_8 (MaxPooling2 (None, 24, 24, 128)       0         \n",
      "_________________________________________________________________\n",
      "dropout_32 (Dropout)         (None, 24, 24, 128)       0         \n",
      "_________________________________________________________________\n",
      "conv2d_27 (Conv2D)           (None, 24, 24, 256)       819456    \n",
      "_________________________________________________________________\n",
      "max_pooling2d_9 (MaxPooling2 (None, 12, 12, 256)       0         \n",
      "_________________________________________________________________\n",
      "dropout_33 (Dropout)         (None, 12, 12, 256)       0         \n",
      "_________________________________________________________________\n",
      "conv2d_28 (Conv2D)           (None, 12, 12, 512)       3277312   \n",
      "_________________________________________________________________\n",
      "max_pooling2d_10 (MaxPooling (None, 6, 6, 512)         0         \n",
      "_________________________________________________________________\n",
      "dropout_34 (Dropout)         (None, 6, 6, 512)         0         \n",
      "_________________________________________________________________\n",
      "conv2d_29 (Conv2D)           (None, 6, 6, 1024)        4719616   \n",
      "_________________________________________________________________\n",
      "max_pooling2d_11 (MaxPooling (None, 3, 3, 1024)        0         \n",
      "_________________________________________________________________\n",
      "dropout_35 (Dropout)         (None, 3, 3, 1024)        0         \n",
      "_________________________________________________________________\n",
      "flatten_10 (Flatten)         (None, 9216)              0         \n",
      "_________________________________________________________________\n",
      "dense_20 (Dense)             (None, 2048)              18876416  \n",
      "_________________________________________________________________\n",
      "dropout_36 (Dropout)         (None, 2048)              0         \n",
      "_________________________________________________________________\n",
      "dense_21 (Dense)             (None, 43)                88107     \n",
      "=================================================================\n",
      "Total params: 27,790,635\n",
      "Trainable params: 27,790,635\n",
      "Non-trainable params: 0\n",
      "_________________________________________________________________\n",
      "None\n",
      "\n",
      "Dropout rate:  0.3\n",
      "Strides of the 1st convolutional layer:  (1, 1)\n",
      "Strides of the max pooling layer:  (2, 2)\n",
      "\n",
      "Full configuration details of the 1st layer:\n",
      " {'class_name': 'InputLayer', 'config': {'batch_input_shape': (None, 48, 48, 3), 'dtype': 'float32', 'sparse': False, 'ragged': False, 'name': 'conv2d_26_input'}}\n"
     ]
    }
   ],
   "source": [
    "# Showing model's summary in table format\n",
    "print(model.summary())\n",
    "print()\n",
    "\n",
    "\n",
    "# Showing dropout rate\n",
    "print('Dropout rate: ', model.layers[2].rate)\n",
    "\n",
    "# Showing strides for the 1st layer (convolutional)\n",
    "print('Strides of the 1st convolutional layer: ', model.layers[0].strides)\n",
    "\n",
    "# Showing strides for the 2nd layer (max pooling)\n",
    "print('Strides of the max pooling layer: ', model.layers[1].strides)\n",
    "print()\n",
    "\n",
    "# Showing configurations for entire model\n",
    "# print(model.get_config())\n",
    "\n",
    "# Showing configurations for specific layers\n",
    "print('Full configuration details of the 1st layer:\\n', model.get_config()['layers'][0])\n"
   ]
  },
  {
   "cell_type": "markdown",
   "metadata": {},
   "source": [
    "### RGB Traffic Signs dataset (255.0 ==> mean ==> std)\n",
    "\n",
    "## Step 4: Setting up learning rate & epochs"
   ]
  },
  {
   "cell_type": "code",
   "execution_count": 35,
   "metadata": {
    "scrolled": true
   },
   "outputs": [
    {
     "name": "stdout",
     "output_type": "stream",
     "text": [
      "Number of epochs and schedule for learning rate are set successfully\n"
     ]
    }
   ],
   "source": [
    "# Defining number of epochs\n",
    "epochs = 50\n",
    "\n",
    "# Defining schedule to update learning rate\n",
    "learning_rate = LearningRateScheduler(lambda x: 1e-3 * 0.95 ** (x + epochs), verbose=1)\n",
    "\n",
    "# Check point\n",
    "print('Number of epochs and schedule for learning rate are set successfully')\n"
   ]
  },
  {
   "cell_type": "markdown",
   "metadata": {},
   "source": [
    "### RGB Traffic Signs dataset (255.0 ==> mean ==> std)\n",
    "\n",
    "## Step 5: Overfitting loaded CNN model"
   ]
  },
  {
   "cell_type": "code",
   "execution_count": 36,
   "metadata": {
    "scrolled": true
   },
   "outputs": [
    {
     "name": "stdout",
     "output_type": "stream",
     "text": [
      "\n",
      "Epoch 00001: LearningRateScheduler reducing learning rate to 7.694497527671315e-05.\n",
      "Epoch 1/50\n",
      "100/100 [==============================] - 30s 296ms/step - loss: 3.8103 - accuracy: 0.0300 - val_loss: 3.6696 - val_accuracy: 0.0480\n",
      "\n",
      "Epoch 00002: LearningRateScheduler reducing learning rate to 7.30977265128775e-05.\n",
      "Epoch 2/50\n",
      "100/100 [==============================] - 30s 297ms/step - loss: 3.5128 - accuracy: 0.1000 - val_loss: 3.6699 - val_accuracy: 0.0500\n",
      "\n",
      "Epoch 00003: LearningRateScheduler reducing learning rate to 6.94428401872336e-05.\n",
      "Epoch 3/50\n"
     ]
    },
    {
     "ename": "KeyboardInterrupt",
     "evalue": "",
     "output_type": "error",
     "traceback": [
      "\u001b[1;31m---------------------------------------------------------------------------\u001b[0m",
      "\u001b[1;31mKeyboardInterrupt\u001b[0m                         Traceback (most recent call last)",
      "\u001b[1;32m~\\AppData\\Local\\Temp\\ipykernel_7196\\2011533846.py\u001b[0m in \u001b[0;36m<module>\u001b[1;34m\u001b[0m\n\u001b[0;32m     11\u001b[0m                         \u001b[0mvalidation_data\u001b[0m\u001b[1;33m=\u001b[0m\u001b[1;33m(\u001b[0m\u001b[0mx_validation\u001b[0m\u001b[1;33m[\u001b[0m\u001b[1;33m:\u001b[0m\u001b[1;36m500\u001b[0m\u001b[1;33m]\u001b[0m\u001b[1;33m,\u001b[0m \u001b[0my_validation\u001b[0m\u001b[1;33m[\u001b[0m\u001b[1;33m:\u001b[0m\u001b[1;36m500\u001b[0m\u001b[1;33m]\u001b[0m\u001b[1;33m)\u001b[0m\u001b[1;33m,\u001b[0m\u001b[1;33m\u001b[0m\u001b[1;33m\u001b[0m\u001b[0m\n\u001b[0;32m     12\u001b[0m                         \u001b[0mcallbacks\u001b[0m\u001b[1;33m=\u001b[0m\u001b[1;33m[\u001b[0m\u001b[0mlearning_rate\u001b[0m\u001b[1;33m]\u001b[0m\u001b[1;33m,\u001b[0m\u001b[1;33m\u001b[0m\u001b[1;33m\u001b[0m\u001b[0m\n\u001b[1;32m---> 13\u001b[1;33m                         verbose=1)\n\u001b[0m",
      "\u001b[1;32m~\\.conda\\envs\\cnngpu\\lib\\site-packages\\tensorflow\\python\\keras\\engine\\training.py\u001b[0m in \u001b[0;36m_method_wrapper\u001b[1;34m(self, *args, **kwargs)\u001b[0m\n\u001b[0;32m    106\u001b[0m   \u001b[1;32mdef\u001b[0m \u001b[0m_method_wrapper\u001b[0m\u001b[1;33m(\u001b[0m\u001b[0mself\u001b[0m\u001b[1;33m,\u001b[0m \u001b[1;33m*\u001b[0m\u001b[0margs\u001b[0m\u001b[1;33m,\u001b[0m \u001b[1;33m**\u001b[0m\u001b[0mkwargs\u001b[0m\u001b[1;33m)\u001b[0m\u001b[1;33m:\u001b[0m\u001b[1;33m\u001b[0m\u001b[1;33m\u001b[0m\u001b[0m\n\u001b[0;32m    107\u001b[0m     \u001b[1;32mif\u001b[0m \u001b[1;32mnot\u001b[0m \u001b[0mself\u001b[0m\u001b[1;33m.\u001b[0m\u001b[0m_in_multi_worker_mode\u001b[0m\u001b[1;33m(\u001b[0m\u001b[1;33m)\u001b[0m\u001b[1;33m:\u001b[0m  \u001b[1;31m# pylint: disable=protected-access\u001b[0m\u001b[1;33m\u001b[0m\u001b[1;33m\u001b[0m\u001b[0m\n\u001b[1;32m--> 108\u001b[1;33m       \u001b[1;32mreturn\u001b[0m \u001b[0mmethod\u001b[0m\u001b[1;33m(\u001b[0m\u001b[0mself\u001b[0m\u001b[1;33m,\u001b[0m \u001b[1;33m*\u001b[0m\u001b[0margs\u001b[0m\u001b[1;33m,\u001b[0m \u001b[1;33m**\u001b[0m\u001b[0mkwargs\u001b[0m\u001b[1;33m)\u001b[0m\u001b[1;33m\u001b[0m\u001b[1;33m\u001b[0m\u001b[0m\n\u001b[0m\u001b[0;32m    109\u001b[0m \u001b[1;33m\u001b[0m\u001b[0m\n\u001b[0;32m    110\u001b[0m     \u001b[1;31m# Running inside `run_distribute_coordinator` already.\u001b[0m\u001b[1;33m\u001b[0m\u001b[1;33m\u001b[0m\u001b[1;33m\u001b[0m\u001b[0m\n",
      "\u001b[1;32m~\\.conda\\envs\\cnngpu\\lib\\site-packages\\tensorflow\\python\\keras\\engine\\training.py\u001b[0m in \u001b[0;36mfit\u001b[1;34m(self, x, y, batch_size, epochs, verbose, callbacks, validation_split, validation_data, shuffle, class_weight, sample_weight, initial_epoch, steps_per_epoch, validation_steps, validation_batch_size, validation_freq, max_queue_size, workers, use_multiprocessing)\u001b[0m\n\u001b[0;32m   1096\u001b[0m                 batch_size=batch_size):\n\u001b[0;32m   1097\u001b[0m               \u001b[0mcallbacks\u001b[0m\u001b[1;33m.\u001b[0m\u001b[0mon_train_batch_begin\u001b[0m\u001b[1;33m(\u001b[0m\u001b[0mstep\u001b[0m\u001b[1;33m)\u001b[0m\u001b[1;33m\u001b[0m\u001b[1;33m\u001b[0m\u001b[0m\n\u001b[1;32m-> 1098\u001b[1;33m               \u001b[0mtmp_logs\u001b[0m \u001b[1;33m=\u001b[0m \u001b[0mtrain_function\u001b[0m\u001b[1;33m(\u001b[0m\u001b[0miterator\u001b[0m\u001b[1;33m)\u001b[0m\u001b[1;33m\u001b[0m\u001b[1;33m\u001b[0m\u001b[0m\n\u001b[0m\u001b[0;32m   1099\u001b[0m               \u001b[1;32mif\u001b[0m \u001b[0mdata_handler\u001b[0m\u001b[1;33m.\u001b[0m\u001b[0mshould_sync\u001b[0m\u001b[1;33m:\u001b[0m\u001b[1;33m\u001b[0m\u001b[1;33m\u001b[0m\u001b[0m\n\u001b[0;32m   1100\u001b[0m                 \u001b[0mcontext\u001b[0m\u001b[1;33m.\u001b[0m\u001b[0masync_wait\u001b[0m\u001b[1;33m(\u001b[0m\u001b[1;33m)\u001b[0m\u001b[1;33m\u001b[0m\u001b[1;33m\u001b[0m\u001b[0m\n",
      "\u001b[1;32m~\\.conda\\envs\\cnngpu\\lib\\site-packages\\tensorflow\\python\\eager\\def_function.py\u001b[0m in \u001b[0;36m__call__\u001b[1;34m(self, *args, **kwds)\u001b[0m\n\u001b[0;32m    778\u001b[0m       \u001b[1;32melse\u001b[0m\u001b[1;33m:\u001b[0m\u001b[1;33m\u001b[0m\u001b[1;33m\u001b[0m\u001b[0m\n\u001b[0;32m    779\u001b[0m         \u001b[0mcompiler\u001b[0m \u001b[1;33m=\u001b[0m \u001b[1;34m\"nonXla\"\u001b[0m\u001b[1;33m\u001b[0m\u001b[1;33m\u001b[0m\u001b[0m\n\u001b[1;32m--> 780\u001b[1;33m         \u001b[0mresult\u001b[0m \u001b[1;33m=\u001b[0m \u001b[0mself\u001b[0m\u001b[1;33m.\u001b[0m\u001b[0m_call\u001b[0m\u001b[1;33m(\u001b[0m\u001b[1;33m*\u001b[0m\u001b[0margs\u001b[0m\u001b[1;33m,\u001b[0m \u001b[1;33m**\u001b[0m\u001b[0mkwds\u001b[0m\u001b[1;33m)\u001b[0m\u001b[1;33m\u001b[0m\u001b[1;33m\u001b[0m\u001b[0m\n\u001b[0m\u001b[0;32m    781\u001b[0m \u001b[1;33m\u001b[0m\u001b[0m\n\u001b[0;32m    782\u001b[0m       \u001b[0mnew_tracing_count\u001b[0m \u001b[1;33m=\u001b[0m \u001b[0mself\u001b[0m\u001b[1;33m.\u001b[0m\u001b[0m_get_tracing_count\u001b[0m\u001b[1;33m(\u001b[0m\u001b[1;33m)\u001b[0m\u001b[1;33m\u001b[0m\u001b[1;33m\u001b[0m\u001b[0m\n",
      "\u001b[1;32m~\\.conda\\envs\\cnngpu\\lib\\site-packages\\tensorflow\\python\\eager\\def_function.py\u001b[0m in \u001b[0;36m_call\u001b[1;34m(self, *args, **kwds)\u001b[0m\n\u001b[0;32m    805\u001b[0m       \u001b[1;31m# In this case we have created variables on the first call, so we run the\u001b[0m\u001b[1;33m\u001b[0m\u001b[1;33m\u001b[0m\u001b[1;33m\u001b[0m\u001b[0m\n\u001b[0;32m    806\u001b[0m       \u001b[1;31m# defunned version which is guaranteed to never create variables.\u001b[0m\u001b[1;33m\u001b[0m\u001b[1;33m\u001b[0m\u001b[1;33m\u001b[0m\u001b[0m\n\u001b[1;32m--> 807\u001b[1;33m       \u001b[1;32mreturn\u001b[0m \u001b[0mself\u001b[0m\u001b[1;33m.\u001b[0m\u001b[0m_stateless_fn\u001b[0m\u001b[1;33m(\u001b[0m\u001b[1;33m*\u001b[0m\u001b[0margs\u001b[0m\u001b[1;33m,\u001b[0m \u001b[1;33m**\u001b[0m\u001b[0mkwds\u001b[0m\u001b[1;33m)\u001b[0m  \u001b[1;31m# pylint: disable=not-callable\u001b[0m\u001b[1;33m\u001b[0m\u001b[1;33m\u001b[0m\u001b[0m\n\u001b[0m\u001b[0;32m    808\u001b[0m     \u001b[1;32melif\u001b[0m \u001b[0mself\u001b[0m\u001b[1;33m.\u001b[0m\u001b[0m_stateful_fn\u001b[0m \u001b[1;32mis\u001b[0m \u001b[1;32mnot\u001b[0m \u001b[1;32mNone\u001b[0m\u001b[1;33m:\u001b[0m\u001b[1;33m\u001b[0m\u001b[1;33m\u001b[0m\u001b[0m\n\u001b[0;32m    809\u001b[0m       \u001b[1;31m# Release the lock early so that multiple threads can perform the call\u001b[0m\u001b[1;33m\u001b[0m\u001b[1;33m\u001b[0m\u001b[1;33m\u001b[0m\u001b[0m\n",
      "\u001b[1;32m~\\.conda\\envs\\cnngpu\\lib\\site-packages\\tensorflow\\python\\eager\\function.py\u001b[0m in \u001b[0;36m__call__\u001b[1;34m(self, *args, **kwargs)\u001b[0m\n\u001b[0;32m   2827\u001b[0m     \u001b[1;32mwith\u001b[0m \u001b[0mself\u001b[0m\u001b[1;33m.\u001b[0m\u001b[0m_lock\u001b[0m\u001b[1;33m:\u001b[0m\u001b[1;33m\u001b[0m\u001b[1;33m\u001b[0m\u001b[0m\n\u001b[0;32m   2828\u001b[0m       \u001b[0mgraph_function\u001b[0m\u001b[1;33m,\u001b[0m \u001b[0margs\u001b[0m\u001b[1;33m,\u001b[0m \u001b[0mkwargs\u001b[0m \u001b[1;33m=\u001b[0m \u001b[0mself\u001b[0m\u001b[1;33m.\u001b[0m\u001b[0m_maybe_define_function\u001b[0m\u001b[1;33m(\u001b[0m\u001b[0margs\u001b[0m\u001b[1;33m,\u001b[0m \u001b[0mkwargs\u001b[0m\u001b[1;33m)\u001b[0m\u001b[1;33m\u001b[0m\u001b[1;33m\u001b[0m\u001b[0m\n\u001b[1;32m-> 2829\u001b[1;33m     \u001b[1;32mreturn\u001b[0m \u001b[0mgraph_function\u001b[0m\u001b[1;33m.\u001b[0m\u001b[0m_filtered_call\u001b[0m\u001b[1;33m(\u001b[0m\u001b[0margs\u001b[0m\u001b[1;33m,\u001b[0m \u001b[0mkwargs\u001b[0m\u001b[1;33m)\u001b[0m  \u001b[1;31m# pylint: disable=protected-access\u001b[0m\u001b[1;33m\u001b[0m\u001b[1;33m\u001b[0m\u001b[0m\n\u001b[0m\u001b[0;32m   2830\u001b[0m \u001b[1;33m\u001b[0m\u001b[0m\n\u001b[0;32m   2831\u001b[0m   \u001b[1;33m@\u001b[0m\u001b[0mproperty\u001b[0m\u001b[1;33m\u001b[0m\u001b[1;33m\u001b[0m\u001b[0m\n",
      "\u001b[1;32m~\\.conda\\envs\\cnngpu\\lib\\site-packages\\tensorflow\\python\\eager\\function.py\u001b[0m in \u001b[0;36m_filtered_call\u001b[1;34m(self, args, kwargs, cancellation_manager)\u001b[0m\n\u001b[0;32m   1846\u001b[0m                            resource_variable_ops.BaseResourceVariable))],\n\u001b[0;32m   1847\u001b[0m         \u001b[0mcaptured_inputs\u001b[0m\u001b[1;33m=\u001b[0m\u001b[0mself\u001b[0m\u001b[1;33m.\u001b[0m\u001b[0mcaptured_inputs\u001b[0m\u001b[1;33m,\u001b[0m\u001b[1;33m\u001b[0m\u001b[1;33m\u001b[0m\u001b[0m\n\u001b[1;32m-> 1848\u001b[1;33m         cancellation_manager=cancellation_manager)\n\u001b[0m\u001b[0;32m   1849\u001b[0m \u001b[1;33m\u001b[0m\u001b[0m\n\u001b[0;32m   1850\u001b[0m   \u001b[1;32mdef\u001b[0m \u001b[0m_call_flat\u001b[0m\u001b[1;33m(\u001b[0m\u001b[0mself\u001b[0m\u001b[1;33m,\u001b[0m \u001b[0margs\u001b[0m\u001b[1;33m,\u001b[0m \u001b[0mcaptured_inputs\u001b[0m\u001b[1;33m,\u001b[0m \u001b[0mcancellation_manager\u001b[0m\u001b[1;33m=\u001b[0m\u001b[1;32mNone\u001b[0m\u001b[1;33m)\u001b[0m\u001b[1;33m:\u001b[0m\u001b[1;33m\u001b[0m\u001b[1;33m\u001b[0m\u001b[0m\n",
      "\u001b[1;32m~\\.conda\\envs\\cnngpu\\lib\\site-packages\\tensorflow\\python\\eager\\function.py\u001b[0m in \u001b[0;36m_call_flat\u001b[1;34m(self, args, captured_inputs, cancellation_manager)\u001b[0m\n\u001b[0;32m   1922\u001b[0m       \u001b[1;31m# No tape is watching; skip to running the function.\u001b[0m\u001b[1;33m\u001b[0m\u001b[1;33m\u001b[0m\u001b[1;33m\u001b[0m\u001b[0m\n\u001b[0;32m   1923\u001b[0m       return self._build_call_outputs(self._inference_function.call(\n\u001b[1;32m-> 1924\u001b[1;33m           ctx, args, cancellation_manager=cancellation_manager))\n\u001b[0m\u001b[0;32m   1925\u001b[0m     forward_backward = self._select_forward_and_backward_functions(\n\u001b[0;32m   1926\u001b[0m         \u001b[0margs\u001b[0m\u001b[1;33m,\u001b[0m\u001b[1;33m\u001b[0m\u001b[1;33m\u001b[0m\u001b[0m\n",
      "\u001b[1;32m~\\.conda\\envs\\cnngpu\\lib\\site-packages\\tensorflow\\python\\eager\\function.py\u001b[0m in \u001b[0;36mcall\u001b[1;34m(self, ctx, args, cancellation_manager)\u001b[0m\n\u001b[0;32m    548\u001b[0m               \u001b[0minputs\u001b[0m\u001b[1;33m=\u001b[0m\u001b[0margs\u001b[0m\u001b[1;33m,\u001b[0m\u001b[1;33m\u001b[0m\u001b[1;33m\u001b[0m\u001b[0m\n\u001b[0;32m    549\u001b[0m               \u001b[0mattrs\u001b[0m\u001b[1;33m=\u001b[0m\u001b[0mattrs\u001b[0m\u001b[1;33m,\u001b[0m\u001b[1;33m\u001b[0m\u001b[1;33m\u001b[0m\u001b[0m\n\u001b[1;32m--> 550\u001b[1;33m               ctx=ctx)\n\u001b[0m\u001b[0;32m    551\u001b[0m         \u001b[1;32melse\u001b[0m\u001b[1;33m:\u001b[0m\u001b[1;33m\u001b[0m\u001b[1;33m\u001b[0m\u001b[0m\n\u001b[0;32m    552\u001b[0m           outputs = execute.execute_with_cancellation(\n",
      "\u001b[1;32m~\\.conda\\envs\\cnngpu\\lib\\site-packages\\tensorflow\\python\\eager\\execute.py\u001b[0m in \u001b[0;36mquick_execute\u001b[1;34m(op_name, num_outputs, inputs, attrs, ctx, name)\u001b[0m\n\u001b[0;32m     58\u001b[0m     \u001b[0mctx\u001b[0m\u001b[1;33m.\u001b[0m\u001b[0mensure_initialized\u001b[0m\u001b[1;33m(\u001b[0m\u001b[1;33m)\u001b[0m\u001b[1;33m\u001b[0m\u001b[1;33m\u001b[0m\u001b[0m\n\u001b[0;32m     59\u001b[0m     tensors = pywrap_tfe.TFE_Py_Execute(ctx._handle, device_name, op_name,\n\u001b[1;32m---> 60\u001b[1;33m                                         inputs, attrs, num_outputs)\n\u001b[0m\u001b[0;32m     61\u001b[0m   \u001b[1;32mexcept\u001b[0m \u001b[0mcore\u001b[0m\u001b[1;33m.\u001b[0m\u001b[0m_NotOkStatusException\u001b[0m \u001b[1;32mas\u001b[0m \u001b[0me\u001b[0m\u001b[1;33m:\u001b[0m\u001b[1;33m\u001b[0m\u001b[1;33m\u001b[0m\u001b[0m\n\u001b[0;32m     62\u001b[0m     \u001b[1;32mif\u001b[0m \u001b[0mname\u001b[0m \u001b[1;32mis\u001b[0m \u001b[1;32mnot\u001b[0m \u001b[1;32mNone\u001b[0m\u001b[1;33m:\u001b[0m\u001b[1;33m\u001b[0m\u001b[1;33m\u001b[0m\u001b[0m\n",
      "\u001b[1;31mKeyboardInterrupt\u001b[0m: "
     ]
    }
   ],
   "source": [
    "# If you're using Nvidia GPU and 'cnngpu' environment, there might be an issue like:\n",
    "'''Failed to get convolution algorithm. This is probably because cuDNN failed to initialize'''\n",
    "# In this case, close all Jupyter Notebooks, close Terminal Window or Anaconda Prompt\n",
    "# Open again just this one Jupyter Notebook and run it\n",
    "\n",
    "\n",
    "# Training model\n",
    "h = model.fit(x_train[:100], y_train[:100],\n",
    "                        batch_size=1,\n",
    "                        epochs=epochs,\n",
    "                        validation_data=(x_validation[:500], y_validation[:500]),\n",
    "                        callbacks=[learning_rate],\n",
    "                        verbose=1)\n"
   ]
  },
  {
   "cell_type": "markdown",
   "metadata": {},
   "source": [
    "### RGB Traffic Signs dataset (255.0 ==> mean ==> std)\n",
    "\n",
    "## Step 6: Showing and plotting accuracies"
   ]
  },
  {
   "cell_type": "code",
   "execution_count": null,
   "metadata": {},
   "outputs": [],
   "source": [
    "# Accuracies of the model\n",
    "print('Training accuracy={0:.5f}, Validation accuracy={1:.5f}'.\n",
    "                                                             format(max(h.history['accuracy']),\n",
    "                                                                    max(h.history['val_accuracy'])))\n"
   ]
  },
  {
   "cell_type": "code",
   "execution_count": null,
   "metadata": {},
   "outputs": [],
   "source": [
    "# Magic function that renders the figure in a jupyter notebook\n",
    "# instead of displaying a figure object\n",
    "%matplotlib inline\n",
    "\n",
    "\n",
    "# Setting default size of the plot\n",
    "plt.rcParams['figure.figsize'] = (12.0, 6.0)\n",
    "\n",
    "\n",
    "# Plotting accuracies for every model\n",
    "plt.plot(h.history['accuracy'], '-o')\n",
    "plt.plot(h.history['val_accuracy'], '-o')\n",
    "\n",
    "\n",
    "# Showing legend\n",
    "plt.legend(['training accuracy', 'validation accuracy'], loc='upper left', fontsize='xx-large')\n",
    "\n",
    "\n",
    "# Giving name to axes\n",
    "plt.xlabel('Epoch', fontsize=16)\n",
    "plt.ylabel('Accuracy', fontsize=16)\n",
    "\n",
    "\n",
    "# Giving name to the plot\n",
    "plt.title('Overfitting model for Traffic Signs Dataset', fontsize=16)\n",
    "\n",
    "\n",
    "# Saving plot\n",
    "plt.savefig('overfitted_model_of_ts_dataset.png', dpi=500)\n",
    "\n",
    "\n",
    "# Showing the plot\n",
    "plt.show()\n"
   ]
  },
  {
   "cell_type": "markdown",
   "metadata": {},
   "source": [
    "### Some comments\n",
    "\n",
    "To get more details for usage of 'load_model' function:  \n",
    "**print(help(load_model))**  \n",
    "  \n",
    "More details and examples are here:  \n",
    "https://keras.io/api/models/model_saving_apis/#loadmodel-function\n"
   ]
  },
  {
   "cell_type": "code",
   "execution_count": null,
   "metadata": {},
   "outputs": [],
   "source": [
    "print(help(load_model))"
   ]
  }
 ],
 "metadata": {
  "kernelspec": {
   "display_name": "Python 3 (ipykernel)",
   "language": "python",
   "name": "python3"
  },
  "language_info": {
   "codemirror_mode": {
    "name": "ipython",
    "version": 3
   },
   "file_extension": ".py",
   "mimetype": "text/x-python",
   "name": "python",
   "nbconvert_exporter": "python",
   "pygments_lexer": "ipython3",
   "version": "3.7.16"
  }
 },
 "nbformat": 4,
 "nbformat_minor": 2
}
